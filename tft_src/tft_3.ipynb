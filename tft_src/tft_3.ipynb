{
 "cells": [
  {
   "cell_type": "code",
   "execution_count": 1,
   "metadata": {},
   "outputs": [
    {
     "name": "stderr",
     "output_type": "stream",
     "text": [
      "/home/naradaw/miniconda3/envs/gnns/lib/python3.13/site-packages/pytorch_forecasting/models/base_model.py:27: TqdmWarning: IProgress not found. Please update jupyter and ipywidgets. See https://ipywidgets.readthedocs.io/en/stable/user_install.html\n",
      "  from tqdm.autonotebook import tqdm\n"
     ]
    }
   ],
   "source": [
    "import os\n",
    "import numpy as np\n",
    "import pandas as pd\n",
    "import matplotlib.pyplot as plt\n",
    "import torch\n",
    "import torch.nn as nn\n",
    "from torch.utils.data import Dataset, DataLoader\n",
    "import lightning.pytorch as pl\n",
    "from lightning.pytorch.callbacks import EarlyStopping, LearningRateMonitor\n",
    "from pytorch_forecasting.models import TemporalFusionTransformer\n",
    "from pytorch_forecasting.data import TimeSeriesDataSet, GroupNormalizer\n",
    "from pytorch_forecasting.metrics import QuantileLoss\n",
    "\n",
    "import re\n",
    "import sys"
   ]
  },
  {
   "cell_type": "code",
   "execution_count": 2,
   "metadata": {},
   "outputs": [
    {
     "data": {
      "text/plain": [
       "device(type='cuda')"
      ]
     },
     "execution_count": 2,
     "metadata": {},
     "output_type": "execute_result"
    }
   ],
   "source": [
    "device = torch.device(\"cuda\" if torch.cuda.is_available() else \"cpu\")\n",
    "device"
   ]
  },
  {
   "cell_type": "code",
   "execution_count": 3,
   "metadata": {},
   "outputs": [],
   "source": [
    "# Define paths\n",
    "data_path = \"/home/naradaw/code/GCNTFT/data/processed/data_w_geo_v3.csv\"\n",
    "embeddings_path = \"/home/naradaw/code/GCNTFT/data/embeddings_v2_lap_202503312035/tft_ready_embeddings.csv\"\n",
    "\n",
    "# Load the air quality data\n",
    "air_quality_df = pd.read_csv(data_path)\n",
    "air_quality_df['datetime'] = pd.to_datetime(air_quality_df['datetime'])\n",
    "\n",
    "# Load the embeddings\n",
    "embeddings_df = pd.read_csv(embeddings_path, index_col=0)\n"
   ]
  },
  {
   "cell_type": "code",
   "execution_count": 4,
   "metadata": {},
   "outputs": [],
   "source": [
    "\n",
    "# Convert the datetime to proper format for TimeSeriesDataSet\n",
    "air_quality_df['time_idx'] = (air_quality_df['datetime'] - air_quality_df['datetime'].min()).dt.total_seconds() // 3600\n",
    "air_quality_df['time_idx'] = air_quality_df['time_idx'].astype(int)\n",
    "air_quality_df = air_quality_df.sort_values(['station_loc', 'time_idx'])\n"
   ]
  },
  {
   "cell_type": "code",
   "execution_count": null,
   "metadata": {},
   "outputs": [
    {
     "name": "stdout",
     "output_type": "stream",
     "text": [
      "Number of unique stations: 37\n",
      "Sample station names:\n",
      "['Alipur' 'Anand Vihar' 'Ashok Vihar' 'Aya Nagar' 'Bawana']\n",
      "\n",
      "After removing parentheses:\n",
      "['Alipur' 'Anand Vihar' 'Ashok Vihar' 'Aya Nagar' 'Bawana']\n",
      "Number of unique stations after cleaning: 37\n"
     ]
    }
   ],
   "source": [
    "air_quality_df['station_loc'] = air_quality_df['station_loc'].apply(lambda x: x.split(\",\")[0].strip())\n",
    "# Display the unique station names\n",
    "unique_stations = air_quality_df['station_loc'].unique()\n",
    "print(f\"Number of unique stations: {len(unique_stations)}\")\n",
    "print(\"Sample station names:\")\n",
    "print(unique_stations[:5])\n",
    "\n",
    "# Use regex to detect and remove parentheses from station names\n",
    "air_quality_df['station_loc'] = air_quality_df['station_loc'].apply(lambda x: re.sub(r'\\([^)]*\\)', '', x).strip())\n",
    "\n",
    "# Check if any changes were made\n",
    "print(\"\\nAfter removing parentheses:\")\n",
    "print(air_quality_df['station_loc'].unique()[:5])\n",
    "\n",
    "# Count unique station names after cleaning\n",
    "print(f\"Number of unique stations after cleaning: {len(air_quality_df['station_loc'].unique())}\")"
   ]
  },
  {
   "cell_type": "code",
   "execution_count": null,
   "metadata": {},
   "outputs": [],
   "source": [
    "# Add a group_id column (required for pytorch-forecasting)\n",
    "station_ids = air_quality_df['station_loc'].unique()\n",
    "station_mapping = {station: idx for idx, station in enumerate(station_ids)}\n",
    "air_quality_df['group_id'] = air_quality_df['station_loc'].map(station_mapping)\n",
    "\n",
    "necessary_columns = ['datetime', 'time_idx', 'PM2.5 (ug/m3)', 'latitude', 'longitude', 'station_loc', 'group_id']\n",
    "air_quality_df = air_quality_df[necessary_columns]\n",
    "air_quality_df.rename(columns={'PM2.5 (ug/m3)': 'PM25'}, inplace=True)\n",
    "# air_quality_df['station_loc'] = air_quality_df['station_loc'].astype('category')"
   ]
  },
  {
   "cell_type": "code",
   "execution_count": 7,
   "metadata": {},
   "outputs": [
    {
     "data": {
      "text/html": [
       "<div>\n",
       "<style scoped>\n",
       "    .dataframe tbody tr th:only-of-type {\n",
       "        vertical-align: middle;\n",
       "    }\n",
       "\n",
       "    .dataframe tbody tr th {\n",
       "        vertical-align: top;\n",
       "    }\n",
       "\n",
       "    .dataframe thead th {\n",
       "        text-align: right;\n",
       "    }\n",
       "</style>\n",
       "<table border=\"1\" class=\"dataframe\">\n",
       "  <thead>\n",
       "    <tr style=\"text-align: right;\">\n",
       "      <th></th>\n",
       "      <th>datetime</th>\n",
       "      <th>time_idx</th>\n",
       "      <th>PM25</th>\n",
       "      <th>latitude</th>\n",
       "      <th>longitude</th>\n",
       "      <th>station_loc</th>\n",
       "      <th>group_id</th>\n",
       "    </tr>\n",
       "  </thead>\n",
       "  <tbody>\n",
       "    <tr>\n",
       "      <th>0</th>\n",
       "      <td>2022-03-31 23:00:00</td>\n",
       "      <td>0</td>\n",
       "      <td>122.0</td>\n",
       "      <td>28.797312</td>\n",
       "      <td>77.138667</td>\n",
       "      <td>Alipur</td>\n",
       "      <td>0</td>\n",
       "    </tr>\n",
       "    <tr>\n",
       "      <th>1</th>\n",
       "      <td>2022-04-01 00:00:00</td>\n",
       "      <td>1</td>\n",
       "      <td>85.0</td>\n",
       "      <td>28.797312</td>\n",
       "      <td>77.138667</td>\n",
       "      <td>Alipur</td>\n",
       "      <td>0</td>\n",
       "    </tr>\n",
       "    <tr>\n",
       "      <th>2</th>\n",
       "      <td>2022-04-01 01:00:00</td>\n",
       "      <td>2</td>\n",
       "      <td>85.0</td>\n",
       "      <td>28.797312</td>\n",
       "      <td>77.138667</td>\n",
       "      <td>Alipur</td>\n",
       "      <td>0</td>\n",
       "    </tr>\n",
       "    <tr>\n",
       "      <th>3</th>\n",
       "      <td>2022-04-01 02:00:00</td>\n",
       "      <td>3</td>\n",
       "      <td>81.0</td>\n",
       "      <td>28.797312</td>\n",
       "      <td>77.138667</td>\n",
       "      <td>Alipur</td>\n",
       "      <td>0</td>\n",
       "    </tr>\n",
       "    <tr>\n",
       "      <th>4</th>\n",
       "      <td>2022-04-01 03:00:00</td>\n",
       "      <td>4</td>\n",
       "      <td>68.0</td>\n",
       "      <td>28.797312</td>\n",
       "      <td>77.138667</td>\n",
       "      <td>Alipur</td>\n",
       "      <td>0</td>\n",
       "    </tr>\n",
       "  </tbody>\n",
       "</table>\n",
       "</div>"
      ],
      "text/plain": [
       "             datetime  time_idx   PM25   latitude  longitude station_loc  \\\n",
       "0 2022-03-31 23:00:00         0  122.0  28.797312  77.138667      Alipur   \n",
       "1 2022-04-01 00:00:00         1   85.0  28.797312  77.138667      Alipur   \n",
       "2 2022-04-01 01:00:00         2   85.0  28.797312  77.138667      Alipur   \n",
       "3 2022-04-01 02:00:00         3   81.0  28.797312  77.138667      Alipur   \n",
       "4 2022-04-01 03:00:00         4   68.0  28.797312  77.138667      Alipur   \n",
       "\n",
       "   group_id  \n",
       "0         0  \n",
       "1         0  \n",
       "2         0  \n",
       "3         0  \n",
       "4         0  "
      ]
     },
     "execution_count": 7,
     "metadata": {},
     "output_type": "execute_result"
    }
   ],
   "source": [
    "air_quality_df.head()"
   ]
  },
  {
   "cell_type": "code",
   "execution_count": 8,
   "metadata": {},
   "outputs": [],
   "source": [
    "# Add time features\n",
    "air_quality_df[\"hour\"] = pd.to_datetime(air_quality_df[\"datetime\"]).dt.hour\n",
    "air_quality_df[\"day_of_week\"] = pd.to_datetime(air_quality_df[\"datetime\"]).dt.dayofweek\n",
    "air_quality_df[\"month\"] = pd.to_datetime(air_quality_df[\"datetime\"]).dt.month"
   ]
  },
  {
   "cell_type": "code",
   "execution_count": 9,
   "metadata": {},
   "outputs": [],
   "source": [
    "# Create station-specific features\n",
    "for station in station_ids:\n",
    "    # Create cyclical features with station-specific phase shifts\n",
    "    station_data = air_quality_df[air_quality_df['station_loc'] == station]\n",
    "    \n",
    "    # Example: Add station-specific seasonal patterns\n",
    "    # Find peak hour for each station \n",
    "    hourly_avg = station_data.groupby('hour')['PM25'].mean()\n",
    "    peak_hour = hourly_avg.idxmax()\n",
    "    \n",
    "    # Create station-specific cyclic features with phase shift\n",
    "    air_quality_df.loc[air_quality_df['station_loc'] == station, 'station_hour_sin'] = \\\n",
    "        np.sin(2 * np.pi * ((air_quality_df.loc[air_quality_df['station_loc'] == station, 'hour'] - peak_hour) % 24) / 24)\n",
    "    air_quality_df.loc[air_quality_df['station_loc'] == station, 'station_hour_cos'] = \\\n",
    "        np.cos(2 * np.pi * ((air_quality_df.loc[air_quality_df['station_loc'] == station, 'hour'] - peak_hour) % 24) / 24)"
   ]
  },
  {
   "cell_type": "code",
   "execution_count": 10,
   "metadata": {},
   "outputs": [],
   "source": [
    "# Add lag features before creating the dataset\n",
    "for lag in [1, 3, 6, 12, 24]:\n",
    "    air_quality_df[f'PM25_lag_{lag}'] = air_quality_df.groupby('station_loc')['PM25'].shift(lag)\n"
   ]
  },
  {
   "cell_type": "code",
   "execution_count": 11,
   "metadata": {},
   "outputs": [],
   "source": [
    "# Add trend features\n",
    "air_quality_df['PM25_diff_1'] = air_quality_df.groupby('station_loc')['PM25'].diff(1)\n",
    "air_quality_df['PM25_diff_24'] = air_quality_df.groupby('station_loc')['PM25'].diff(24)\n",
    "\n",
    "# Add rolling statistics\n",
    "for window in [3, 6, 24]:\n",
    "    air_quality_df[f'PM25_rolling_mean_{window}'] = air_quality_df.groupby('station_loc')['PM25'].transform(\n",
    "        lambda x: x.rolling(window=window, min_periods=1).mean())"
   ]
  },
  {
   "cell_type": "code",
   "execution_count": 12,
   "metadata": {},
   "outputs": [
    {
     "name": "stdout",
     "output_type": "stream",
     "text": [
      "Null values in the dataframe before handling:\n",
      "PM25_lag_1       37\n",
      "PM25_lag_3      111\n",
      "PM25_lag_6      222\n",
      "PM25_lag_12     444\n",
      "PM25_lag_24     888\n",
      "PM25_diff_1      37\n",
      "PM25_diff_24    888\n",
      "dtype: int64\n",
      "\n",
      "Percentage of missing values:\n",
      "PM25_lag_1      0.01\n",
      "PM25_lag_3      0.03\n",
      "PM25_lag_6      0.07\n",
      "PM25_lag_12     0.14\n",
      "PM25_lag_24     0.27\n",
      "PM25_diff_1     0.01\n",
      "PM25_diff_24    0.27\n",
      "dtype: float64\n"
     ]
    }
   ],
   "source": [
    "# Handle null values in the dataframe\n",
    "# Check for null values in the dataframe\n",
    "print(\"Null values in the dataframe before handling:\")\n",
    "null_counts = air_quality_df.isnull().sum()\n",
    "print(null_counts[null_counts > 0])\n",
    "\n",
    "# Calculate the percentage of missing values\n",
    "print(\"\\nPercentage of missing values:\")\n",
    "missing_percentage = air_quality_df.isnull().sum() / len(air_quality_df) * 100\n",
    "print(missing_percentage[missing_percentage > 0].round(2))"
   ]
  },
  {
   "cell_type": "code",
   "execution_count": 13,
   "metadata": {},
   "outputs": [],
   "source": [
    "air_quality_df.dropna(inplace=True)"
   ]
  },
  {
   "cell_type": "code",
   "execution_count": 14,
   "metadata": {},
   "outputs": [
    {
     "name": "stdout",
     "output_type": "stream",
     "text": [
      "Total number of stations: 37\n",
      "Total number of observations: 323269\n",
      "Average observations per station: 8737.0\n",
      "\n",
      "Station with most data: Alipur (8737 rows)\n",
      "Station with least data: Alipur (8737 rows)\n"
     ]
    },
    {
     "data": {
      "image/png": "[encoded data removed]",
      "text/plain": [
       "<Figure size 1200x600 with 1 Axes>"
      ]
     },
     "metadata": {},
     "output_type": "display_data"
    }
   ],
   "source": [
    "# Analyze the distribution of data across stations\n",
    "station_counts = air_quality_df.groupby('station_loc').size()\n",
    "\n",
    "# Display basic statistics\n",
    "print(f\"Total number of stations: {len(station_ids)}\")\n",
    "print(f\"Total number of observations: {len(air_quality_df)}\")\n",
    "print(f\"Average observations per station: {len(air_quality_df) / len(station_ids):.1f}\")\n",
    "print(f\"\\nStation with most data: {station_counts.idxmax()} ({station_counts.max()} rows)\")\n",
    "print(f\"Station with least data: {station_counts.idxmin()} ({station_counts.min()} rows)\")\n",
    "\n",
    "# Visualize data distribution\n",
    "plt.figure(figsize=(12, 6))\n",
    "station_counts.sort_values().plot(kind='barh')\n",
    "plt.title('Number of Observations per Station')\n",
    "plt.xlabel('Count')\n",
    "plt.ylabel('Station')\n",
    "plt.tight_layout()\n",
    "plt.grid(axis='x')\n",
    "\n",
    "# Check for missing values in PM25 by station\n",
    "pm25_missing = air_quality_df.groupby('station_loc')['PM25'].apply(lambda x: x.isna().sum())\n",
    "if pm25_missing.sum() > 0:\n",
    "    print(f\"\\nTotal missing PM25 values: {air_quality_df['PM25'].isna().sum()}\")\n",
    "    print(\"\\nMissing PM25 values by station:\")\n",
    "    print(pm25_missing[pm25_missing > 0])"
   ]
  },
  {
   "cell_type": "code",
   "execution_count": 15,
   "metadata": {},
   "outputs": [],
   "source": [
    "# Merge embeddings with the air quality data\n",
    "# First, create a column for the embedding index\n",
    "max_time_idx = air_quality_df['time_idx'].max()\n",
    "window_size = 24  # assuming 24-hour window size used in GNN\n",
    "\n",
    "# We need to match embeddings to the right time points\n",
    "processed_data = []\n",
    "\n",
    "for station in station_ids:\n",
    "    station_data = air_quality_df[air_quality_df['station_loc'] == station]\n",
    "    \n",
    "    # For each time point with sufficient history\n",
    "    for t in range(window_size, int(max_time_idx) + 1):\n",
    "        if t in station_data['time_idx'].values:\n",
    "            curr_data = station_data[station_data['time_idx'] == t].iloc[0].to_dict()\n",
    "            \n",
    "            # Find the embedding for this station at this time point\n",
    "            station_idx = station_mapping[station]\n",
    "            embedding_idx = (t - window_size) * len(station_ids) + station_idx\n",
    "            \n",
    "            if embedding_idx < len(embeddings_df):\n",
    "                # Add embedding features\n",
    "                for i in range(1, embeddings_df.shape[1]):\n",
    "                    curr_data[f'embedding_{i}'] = embeddings_df.iloc[embedding_idx, i]\n",
    "                \n",
    "                processed_data.append(curr_data)\n",
    "\n",
    "# Create new dataframe with embeddings\n",
    "combined_df = pd.DataFrame(processed_data)"
   ]
  },
  {
   "cell_type": "code",
   "execution_count": 17,
   "metadata": {},
   "outputs": [],
   "source": [
    "combined_df.to_csv(\"/home/naradaw/code/GCNTFT/data/processed/data_w_geo_v5_lap.csv\", index=False)"
   ]
  },
  {
   "cell_type": "code",
   "execution_count": 16,
   "metadata": {},
   "outputs": [
    {
     "ename": "SystemExit",
     "evalue": "",
     "output_type": "error",
     "traceback": [
      "An exception has occurred, use %tb to see the full traceback.\n",
      "\u001b[31mSystemExit\u001b[39m\n"
     ]
    },
    {
     "name": "stderr",
     "output_type": "stream",
     "text": [
      "/home/naradaw/miniconda3/envs/gnns/lib/python3.13/site-packages/IPython/core/interactiveshell.py:3557: UserWarning: To exit: use 'exit', 'quit', or Ctrl-D.\n",
      "  warn(\"To exit: use 'exit', 'quit', or Ctrl-D.\", stacklevel=1)\n"
     ]
    }
   ],
   "source": [
    "sys.exit()"
   ]
  },
  {
   "cell_type": "code",
   "execution_count": null,
   "metadata": {},
   "outputs": [],
   "source": [
    "from lightning.pytorch.loggers import MLFlowLogger\n",
    "\n",
    "mlf_logger = MLFlowLogger(experiment_name=\"tft_only_forecasting\", tracking_uri=\"file:./../mlflow_experiments\")\n",
    "# trainer = Trainer(logger=mlf_logger)"
   ]
  },
  {
   "cell_type": "code",
   "execution_count": null,
   "metadata": {},
   "outputs": [
    {
     "name": "stderr",
     "output_type": "stream",
     "text": [
      "/home/naradaw/miniconda3/envs/gnns/lib/python3.13/site-packages/lightning/pytorch/utilities/parsing.py:209: Attribute 'loss' is an instance of `nn.Module` and is already saved during checkpointing. It is recommended to ignore them using `self.save_hyperparameters(ignore=['loss'])`.\n",
      "/home/naradaw/miniconda3/envs/gnns/lib/python3.13/site-packages/lightning/pytorch/utilities/parsing.py:209: Attribute 'logging_metrics' is an instance of `nn.Module` and is already saved during checkpointing. It is recommended to ignore them using `self.save_hyperparameters(ignore=['logging_metrics'])`.\n",
      "You are using the plain ModelCheckpoint callback. Consider using LitModelCheckpoint which with seamless uploading to Model registry.\n"
     ]
    },
    {
     "name": "stdout",
     "output_type": "stream",
     "text": [
      "\n",
      "==================================================\n",
      "Training model for station: Alipur\n",
      "==================================================\n",
      "\n",
      "Data quality for station Alipur:\n",
      "  - Total rows: 8737\n",
      "  - Missing PM25 values: 0 (0.00%)\n",
      "  - PM25 range: 1.00 to 835.75, mean: 102.97\n"
     ]
    },
    {
     "name": "stderr",
     "output_type": "stream",
     "text": [
      "GPU available: True (cuda), used: True\n",
      "TPU available: False, using: 0 TPU cores\n",
      "HPU available: False, using: 0 HPUs\n",
      "LOCAL_RANK: 0 - CUDA_VISIBLE_DEVICES: [0]\n",
      "\n",
      "   | Name                               | Type                            | Params | Mode \n",
      "------------------------------------------------------------------------------------------------\n",
      "0  | loss                               | QuantileLoss                    | 0      | train\n",
      "1  | logging_metrics                    | ModuleList                      | 0      | train\n",
      "2  | input_embeddings                   | MultiEmbedding                  | 1      | train\n",
      "3  | prescalers                         | ModuleDict                      | 3.7 K  | train\n",
      "4  | static_variable_selection          | VariableSelectionNetwork        | 202 K  | train\n",
      "5  | encoder_variable_selection         | VariableSelectionNetwork        | 747 K  | train\n",
      "6  | decoder_variable_selection         | VariableSelectionNetwork        | 284 K  | train\n",
      "7  | static_context_variable_selection  | GatedResidualNetwork            | 103 K  | train\n",
      "8  | static_context_initial_hidden_lstm | GatedResidualNetwork            | 103 K  | train\n",
      "9  | static_context_initial_cell_lstm   | GatedResidualNetwork            | 103 K  | train\n",
      "10 | static_context_enrichment          | GatedResidualNetwork            | 103 K  | train\n",
      "11 | lstm_encoder                       | LSTM                            | 206 K  | train\n",
      "12 | lstm_decoder                       | LSTM                            | 206 K  | train\n",
      "13 | post_lstm_gate_encoder             | GatedLinearUnit                 | 51.5 K | train\n",
      "14 | post_lstm_add_norm_encoder         | AddNorm                         | 320    | train\n",
      "15 | static_enrichment                  | GatedResidualNetwork            | 128 K  | train\n",
      "16 | multihead_attn                     | InterpretableMultiHeadAttention | 64.4 K | train\n",
      "17 | post_attn_gate_norm                | GateAddNorm                     | 51.8 K | train\n",
      "18 | pos_wise_ff                        | GatedResidualNetwork            | 103 K  | train\n",
      "19 | pre_output_gate_norm               | GateAddNorm                     | 51.8 K | train\n",
      "20 | output_layer                       | Linear                          | 1.1 K  | train\n",
      "------------------------------------------------------------------------------------------------\n",
      "2.5 M     Trainable params\n",
      "0         Non-trainable params\n",
      "2.5 M     Total params\n",
      "10.045    Total estimated model params size (MB)\n",
      "609       Modules in train mode\n",
      "0         Modules in eval mode\n"
     ]
    },
    {
     "name": "stdout",
     "output_type": "stream",
     "text": [
      "Epoch 0: 100%|██████████| 272/272 [01:51<00:00,  2.44it/s, v_num=6a51, train_loss_step=30.40, val_loss=24.30, train_loss_epoch=41.10]"
     ]
    },
    {
     "name": "stderr",
     "output_type": "stream",
     "text": [
      "Metric val_loss improved. New best score: 24.273\n"
     ]
    },
    {
     "name": "stdout",
     "output_type": "stream",
     "text": [
      "Epoch 1: 100%|██████████| 272/272 [01:48<00:00,  2.50it/s, v_num=6a51, train_loss_step=38.50, val_loss=22.90, train_loss_epoch=27.30]"
     ]
    },
    {
     "name": "stderr",
     "output_type": "stream",
     "text": [
      "Metric val_loss improved by 1.385 >= min_delta = 0.0001. New best score: 22.888\n"
     ]
    },
    {
     "name": "stdout",
     "output_type": "stream",
     "text": [
      "Epoch 15: 100%|██████████| 272/272 [01:47<00:00,  2.54it/s, v_num=6a51, train_loss_step=18.50, val_loss=20.70, train_loss_epoch=19.10]"
     ]
    },
    {
     "name": "stderr",
     "output_type": "stream",
     "text": [
      "Metric val_loss improved by 2.149 >= min_delta = 0.0001. New best score: 20.740\n"
     ]
    },
    {
     "name": "stdout",
     "output_type": "stream",
     "text": [
      "Epoch 30: 100%|██████████| 272/272 [01:45<00:00,  2.58it/s, v_num=6a51, train_loss_step=18.70, val_loss=23.00, train_loss_epoch=17.10]"
     ]
    },
    {
     "name": "stderr",
     "output_type": "stream",
     "text": [
      "Monitored metric val_loss did not improve in the last 15 records. Best score: 20.740. Signaling Trainer to stop.\n"
     ]
    },
    {
     "name": "stdout",
     "output_type": "stream",
     "text": [
      "Epoch 30: 100%|██████████| 272/272 [01:46<00:00,  2.56it/s, v_num=6a51, train_loss_step=18.70, val_loss=23.00, train_loss_epoch=17.10]\n",
      "\n",
      "Feature Importance Analysis:\n"
     ]
    },
    {
     "ename": "AttributeError",
     "evalue": "'TemporalFusionTransformer' object has no attribute 'interpret'",
     "output_type": "error",
     "traceback": [
      "\u001b[31m---------------------------------------------------------------------------\u001b[39m",
      "\u001b[31mAttributeError\u001b[39m                            Traceback (most recent call last)",
      "\u001b[36mCell\u001b[39m\u001b[36m \u001b[39m\u001b[32mIn[17]\u001b[39m\u001b[32m, line 161\u001b[39m\n\u001b[32m    158\u001b[39m \u001b[38;5;28mprint\u001b[39m(\u001b[33m\"\u001b[39m\u001b[38;5;130;01m\\n\u001b[39;00m\u001b[33mFeature Importance Analysis:\u001b[39m\u001b[33m\"\u001b[39m)\n\u001b[32m    160\u001b[39m \u001b[38;5;66;03m# The correct way to get interpretation from a dataloader\u001b[39;00m\n\u001b[32m--> \u001b[39m\u001b[32m161\u001b[39m interpretation = \u001b[43mtft\u001b[49m\u001b[43m.\u001b[49m\u001b[43minterpret\u001b[49m(val_dataloader)\n\u001b[32m    163\u001b[39m \u001b[38;5;66;03m# Extract and print variable importance\u001b[39;00m\n\u001b[32m    164\u001b[39m variable_importance = interpretation[\u001b[33m\"\u001b[39m\u001b[33mvariable_importance\u001b[39m\u001b[33m\"\u001b[39m]\n",
      "\u001b[36mFile \u001b[39m\u001b[32m~/miniconda3/envs/gnns/lib/python3.13/site-packages/torch/nn/modules/module.py:1928\u001b[39m, in \u001b[36mModule.__getattr__\u001b[39m\u001b[34m(self, name)\u001b[39m\n\u001b[32m   1926\u001b[39m     \u001b[38;5;28;01mif\u001b[39;00m name \u001b[38;5;129;01min\u001b[39;00m modules:\n\u001b[32m   1927\u001b[39m         \u001b[38;5;28;01mreturn\u001b[39;00m modules[name]\n\u001b[32m-> \u001b[39m\u001b[32m1928\u001b[39m \u001b[38;5;28;01mraise\u001b[39;00m \u001b[38;5;167;01mAttributeError\u001b[39;00m(\n\u001b[32m   1929\u001b[39m     \u001b[33mf\u001b[39m\u001b[33m\"\u001b[39m\u001b[33m'\u001b[39m\u001b[38;5;132;01m{\u001b[39;00m\u001b[38;5;28mtype\u001b[39m(\u001b[38;5;28mself\u001b[39m).\u001b[34m__name__\u001b[39m\u001b[38;5;132;01m}\u001b[39;00m\u001b[33m'\u001b[39m\u001b[33m object has no attribute \u001b[39m\u001b[33m'\u001b[39m\u001b[38;5;132;01m{\u001b[39;00mname\u001b[38;5;132;01m}\u001b[39;00m\u001b[33m'\u001b[39m\u001b[33m\"\u001b[39m\n\u001b[32m   1930\u001b[39m )\n",
      "\u001b[31mAttributeError\u001b[39m: 'TemporalFusionTransformer' object has no attribute 'interpret'"
     ]
    }
   ],
   "source": [
    "# Define max_prediction_length and max_encoder_length\n",
    "max_prediction_length = 24  # predict 24 hours ahead\n",
    "max_encoder_length = 168  # use 7 days of history (168 hours) for making predictions\n",
    "\n",
    "# Get unique station locations\n",
    "unique_stations = air_quality_df[\"station_loc\"].unique()\n",
    "\n",
    "# Create a directory to store station-specific models\n",
    "import os\n",
    "os.makedirs(\"station_models\", exist_ok=True)\n",
    "\n",
    "# Training cutoff (same for all stations)\n",
    "training_cutoff = air_quality_df[\"time_idx\"].max() - max_prediction_length * 2\n",
    "\n",
    "# Dictionary to store model performances\n",
    "station_performances = {}\n",
    "\n",
    "# Function to check for data quality issues\n",
    "def check_data_quality(df, station_name):\n",
    "    missing_values = df['PM25'].isna().sum()\n",
    "    total_rows = len(df)\n",
    "    percent_missing = (missing_values / total_rows) * 100\n",
    "    \n",
    "    print(f\"Data quality for station {station_name}:\")\n",
    "    print(f\"  - Total rows: {total_rows}\")\n",
    "    print(f\"  - Missing PM25 values: {missing_values} ({percent_missing:.2f}%)\")\n",
    "    print(f\"  - PM25 range: {df['PM25'].min():.2f} to {df['PM25'].max():.2f}, mean: {df['PM25'].mean():.2f}\")\n",
    "    \n",
    "    if percent_missing > 10:\n",
    "        print(f\"  - WARNING: High percentage of missing values ({percent_missing:.2f}%)\")\n",
    "    \n",
    "    return percent_missing\n",
    "\n",
    "# Train separate models for each station\n",
    "for station in unique_stations:\n",
    "    print(f\"\\n{'='*50}\")\n",
    "    print(f\"Training model for station: {station}\")\n",
    "    print(f\"{'='*50}\\n\")\n",
    "    \n",
    "    # Filter data for this station\n",
    "    station_df = air_quality_df[air_quality_df[\"station_loc\"] == station].copy()\n",
    "    \n",
    "    # Check data quality\n",
    "    missing_percent = check_data_quality(station_df, station)\n",
    "    \n",
    "    # Skip stations with excessive missing data\n",
    "    if missing_percent > 30:\n",
    "        print(f\"Skipping station {station} due to excessive missing data\")\n",
    "        continue\n",
    "    \n",
    "    # Create the training dataset for this station\n",
    "    training = TimeSeriesDataSet(\n",
    "        data=station_df[station_df[\"time_idx\"] <= training_cutoff],\n",
    "        time_idx=\"time_idx\",\n",
    "        target=\"PM25\",\n",
    "        group_ids=[\"station_loc\"],\n",
    "        min_encoder_length=max_encoder_length // 2,  # allow for some missing data\n",
    "        max_encoder_length=max_encoder_length,\n",
    "        min_prediction_length=1,\n",
    "        max_prediction_length=max_prediction_length,\n",
    "        static_categoricals=[\"station_loc\"],\n",
    "        static_reals=[\"latitude\", \"longitude\"],\n",
    "        time_varying_known_categoricals=[],\n",
    "        time_varying_known_reals=[\"time_idx\", \"hour\", \"day_of_week\", \"month\", \"station_hour_sin\", \"station_hour_cos\"],\n",
    "        time_varying_unknown_categoricals=[],\n",
    "        time_varying_unknown_reals=[\"PM25\", \n",
    "                                \"PM25_lag_1\", \n",
    "                                \"PM25_lag_3\", \n",
    "                                \"PM25_lag_6\", \n",
    "                                \"PM25_lag_12\", \n",
    "                                \"PM25_lag_24\",\n",
    "                                \"PM25_diff_1\",\n",
    "                                \"PM25_diff_24\",\n",
    "                                \"PM25_rolling_mean_3\",\n",
    "                                \"PM25_rolling_mean_6\", \n",
    "                                \"PM25_rolling_mean_24\"\n",
    "                                ],\n",
    "        # Changed normalization strategy from softplus to standard\n",
    "        target_normalizer=GroupNormalizer(\n",
    "            groups=[\"station_loc\"]\n",
    "        ),\n",
    "        add_relative_time_idx=True,\n",
    "        add_target_scales=True,\n",
    "        add_encoder_length=True,\n",
    "    )\n",
    "\n",
    "    # Create the validation dataset for this station\n",
    "    validation = TimeSeriesDataSet.from_dataset(\n",
    "        training, \n",
    "        station_df, \n",
    "        min_prediction_idx=training_cutoff + 1\n",
    "    )\n",
    "\n",
    "    # Create data loaders with reduced batch size for small station datasets\n",
    "    # Adjust batch size based on dataset size\n",
    "    sample_count = len(station_df[station_df[\"time_idx\"] <= training_cutoff])\n",
    "    batch_size = min(32, max(8, sample_count // 20))  # Adaptive batch size\n",
    "    \n",
    "    train_dataloader = training.to_dataloader(train=True, batch_size=batch_size, num_workers=4, shuffle=True)\n",
    "    val_dataloader = validation.to_dataloader(train=False, batch_size=batch_size * 2, num_workers=4)\n",
    "\n",
    "    # Define TFT model with adjusted parameters\n",
    "    tft = TemporalFusionTransformer.from_dataset(\n",
    "        training,\n",
    "        learning_rate=0.0005,  # Reduced learning rate\n",
    "        hidden_size=160,        # Increased hidden size\n",
    "        attention_head_size=4,  # Reduced attention heads to prevent overfitting\n",
    "        dropout=0.3,           # Increased dropout for regularization\n",
    "        hidden_continuous_size=80,  # Increased hidden continuous size\n",
    "        optimizer=\"ranger\",     # Using Ranger optimizer (combines RAdam + LookAhead)\n",
    "        loss=QuantileLoss(),\n",
    "        reduce_on_plateau_patience=4,\n",
    "    )\n",
    "\n",
    "    # Create a station-specific logger\n",
    "    mlf_logger_station = pl.loggers.MLFlowLogger(\n",
    "        experiment_name=f\"air_quality_prediction_{station}\",\n",
    "        tracking_uri=\"file:./ml-runs\",\n",
    "    )\n",
    "\n",
    "    # Create PyTorch Lightning trainer with improved callbacks\n",
    "    early_stop_callback = EarlyStopping(\n",
    "        monitor=\"val_loss\", \n",
    "        min_delta=1e-4, \n",
    "        patience=15,  # Increased patience\n",
    "        verbose=True, \n",
    "        mode=\"min\"\n",
    "    )\n",
    "    lr_monitor = LearningRateMonitor(logging_interval=\"epoch\")\n",
    "\n",
    "    # Add ReduceLROnPlateau callback\n",
    "    lr_callback = pl.callbacks.LearningRateMonitor(logging_interval=\"epoch\")\n",
    "    \n",
    "    trainer = pl.Trainer(\n",
    "        max_epochs=150,  # Increased max epochs\n",
    "        accelerator=\"gpu\",\n",
    "        devices=1,\n",
    "        gradient_clip_val=0.1,\n",
    "        callbacks=[early_stop_callback, lr_monitor, lr_callback],\n",
    "        logger=mlf_logger_station,\n",
    "        log_every_n_steps=10\n",
    "    )\n",
    "\n",
    "    # Train the model\n",
    "    trainer.fit(\n",
    "        tft, \n",
    "        train_dataloaders=train_dataloader, \n",
    "        val_dataloaders=val_dataloader,\n",
    "    )\n",
    "\n",
    "    # Save the trained model with station name\n",
    "    model_path = f\"station_models/air_quality_tft_model_{station}.ckpt\"\n",
    "    trainer.save_checkpoint(model_path)\n",
    "    \n",
    "    print(f\"\\nModel for station {station} saved at: {model_path}\")\n",
    "    print(f\"Best validation loss: {station_performances[station]}\")\n",
    "    \n",
    "    # Optional: Perform prediction on validation set and visualize results?\n",
    "    \n",
    "\n",
    "# Print summary of model performance by station\n",
    "print(\"\\n\\nModel Performance Summary:\")\n",
    "print(\"--------------------------\")\n",
    "for station, loss in sorted(station_performances.items(), key=lambda x: x[1]):\n",
    "    print(f\"Station {station}: Val Loss = {loss:.4f}\")"
   ]
  },
  {
   "cell_type": "code",
   "execution_count": null,
   "metadata": {},
   "outputs": [
    {
     "ename": "SystemExit",
     "evalue": "",
     "output_type": "error",
     "traceback": [
      "An exception has occurred, use %tb to see the full traceback.\n",
      "\u001b[31mSystemExit\u001b[39m\n"
     ]
    },
    {
     "name": "stderr",
     "output_type": "stream",
     "text": [
      "/home/naradaw/miniconda3/envs/gnns/lib/python3.13/site-packages/IPython/core/interactiveshell.py:3557: UserWarning: To exit: use 'exit', 'quit', or Ctrl-D.\n",
      "  warn(\"To exit: use 'exit', 'quit', or Ctrl-D.\", stacklevel=1)\n"
     ]
    }
   ],
   "source": [
    "import sys \n",
    "sys.exit()"
   ]
  },
  {
   "cell_type": "code",
   "execution_count": null,
   "metadata": {},
   "outputs": [
    {
     "name": "stderr",
     "output_type": "stream",
     "text": [
      "/tmp/ipykernel_1505/3576059663.py:1: DeprecationWarning: DataFrameGroupBy.apply operated on the grouping columns. This behavior is deprecated, and in a future version of pandas the grouping columns will be excluded from the operation. Either pass `include_groups=False` to exclude the groupings or explicitly select the grouping columns after groupby to silence this warning.\n",
      "  last_data = air_quality_df.groupby('station_loc').apply(lambda x: x.iloc[-max_encoder_length:]).reset_index(drop=True)\n"
     ]
    }
   ],
   "source": [
    "last_data = air_quality_df.groupby('station_loc').apply(lambda x: x.iloc[-max_encoder_length:]).reset_index(drop=True)"
   ]
  },
  {
   "cell_type": "code",
   "execution_count": null,
   "metadata": {},
   "outputs": [],
   "source": [
    "pred_dataset = TimeSeriesDataSet(\n",
    "    data=last_data,\n",
    "    time_idx=\"time_idx\",\n",
    "    target=\"PM25\",\n",
    "    group_ids=[\"station_loc\"],\n",
    "    min_encoder_length=max_encoder_length // 2,  # allow for some missing data\n",
    "    max_encoder_length=max_encoder_length,\n",
    "    min_prediction_length=1,\n",
    "    max_prediction_length=max_prediction_length,\n",
    "    static_categoricals=[\"station_loc\"],\n",
    "    static_reals=[\"latitude\", \"longitude\"],\n",
    "    time_varying_known_categoricals=[],\n",
    "    time_varying_known_reals=[\"time_idx\", \"hour\", \"day_of_week\", \"month\", \"station_hour_sin\", \"station_hour_cos\"], #\"time_idx\"\n",
    "    time_varying_unknown_categoricals=[],\n",
    "    time_varying_unknown_reals=[\"PM25\", \n",
    "                                \"PM25_lag_1\", \n",
    "                                \"PM25_lag_3\", \n",
    "                                \"PM25_lag_6\", \n",
    "                                \"PM25_lag_12\", \n",
    "                                \"PM25_lag_24\",\n",
    "                                \"PM25_diff_1\",\n",
    "                                \"PM25_diff_24\",\n",
    "                                \"PM25_rolling_mean_3\",\n",
    "                                \"PM25_rolling_mean_6\", \n",
    "                                \"PM25_rolling_mean_24\"\n",
    "                                ],\n",
    "    target_normalizer=GroupNormalizer(\n",
    "        groups=[\"station_loc\"], transformation=\"softplus\"\n",
    "    ),\n",
    "    add_relative_time_idx=True,\n",
    "    add_target_scales=True,\n",
    "    add_encoder_length=True,\n",
    ")\n"
   ]
  },
  {
   "cell_type": "code",
   "execution_count": null,
   "metadata": {},
   "outputs": [
    {
     "name": "stderr",
     "output_type": "stream",
     "text": [
      "You are using the plain ModelCheckpoint callback. Consider using LitModelCheckpoint which with seamless uploading to Model registry.\n",
      "GPU available: True (cuda), used: True\n",
      "TPU available: False, using: 0 TPU cores\n",
      "HPU available: False, using: 0 HPUs\n",
      "LOCAL_RANK: 0 - CUDA_VISIBLE_DEVICES: [0]\n",
      "/home/naradaw/miniconda3/envs/gnns/lib/python3.13/site-packages/lightning/pytorch/trainer/connectors/data_connector.py:425: The 'predict_dataloader' does not have many workers which may be a bottleneck. Consider increasing the value of the `num_workers` argument` to `num_workers=19` in the `DataLoader` to improve performance.\n"
     ]
    }
   ],
   "source": [
    "predictions = tft.predict(pred_dataset)\n",
    "predictions.shape"
   ]
  },
  {
   "cell_type": "code",
   "execution_count": null,
   "metadata": {},
   "outputs": [
    {
     "name": "stdout",
     "output_type": "stream",
     "text": [
      "Predictions shape: torch.Size([6179, 24])\n",
      "Prediction samples for first 5 timestamps:\n",
      "Station Alipur: [24.984472 25.007977 25.178965 25.487686 25.921286]\n",
      "Station Anand Vihar: [24.984472 25.007977 25.178965 25.487686 25.921286]\n",
      "Station Ashok Vihar: [24.984472 25.007977 25.178965 25.487686 25.921286]\n",
      "Station Aya Nagar: [24.984472 25.007977 25.178965 25.487686 25.921286]\n",
      "Station Bawana: [24.984472 25.007977 25.178965 25.487686 25.921286]\n"
     ]
    }
   ],
   "source": [
    "# Check prediction variation across stations\n",
    "print(f\"Predictions shape: {predictions.shape}\")\n",
    "print(\"Prediction samples for first 5 timestamps:\")\n",
    "for i, station in enumerate(list(station_ids)[:5]):\n",
    "    station_idx = station_mapping[station]\n",
    "    print(f\"Station {station}: {predictions[station_idx][:5].detach().cpu().numpy()}\")"
   ]
  },
  {
   "cell_type": "code",
   "execution_count": null,
   "metadata": {},
   "outputs": [],
   "source": [
    "# Create separate prediction datasets for each station\n",
    "all_predictions = []\n",
    "station_preds_dict = {}\n",
    "\n",
    "for station in station_ids:\n",
    "    # Filter last data for just this station\n",
    "    station_last_data = last_data[last_data['station_loc'] == station].reset_index(drop=True)\n",
    "    \n",
    "    # Create a station-specific prediction dataset\n",
    "    station_pred_dataset = TimeSeriesDataSet(\n",
    "        data=station_last_data,\n",
    "        time_idx=\"time_idx\",\n",
    "        target=\"PM25\",\n",
    "        group_ids=[\"station_loc\"],\n",
    "        min_encoder_length=max_encoder_length // 2,\n",
    "        max_encoder_length=max_encoder_length,\n",
    "        min_prediction_length=1,\n",
    "        max_prediction_length=max_prediction_length,\n",
    "        static_categoricals=[\"station_loc\"],\n",
    "        static_reals=[\"latitude\", \"longitude\"],\n",
    "        time_varying_known_categoricals=[],\n",
    "        time_varying_known_reals=[\"time_idx\", \"hour\", \"day_of_week\", \"month\"],\n",
    "        time_varying_unknown_categoricals=[],\n",
    "        time_varying_unknown_reals=[\"PM25\"],\n",
    "        target_normalizer=GroupNormalizer(\n",
    "            groups=[\"station_loc\"], transformation=\"log1p\"\n",
    "        ),\n",
    "        add_relative_time_idx=True,\n",
    "        add_target_scales=True,\n",
    "        add_encoder_length=True,\n",
    "    )\n",
    "    \n",
    "    # Create dataloader\n",
    "    pred_dataloader = station_pred_dataset.to_dataloader(batch_size=1, train=False, shuffle=False)\n",
    "    \n",
    "    # Generate prediction for this station\n",
    "    station_prediction = tft.predict(pred_dataloader)\n",
    "    station_preds_dict[station] = station_prediction[0].detach().cpu().numpy()\n",
    "    print(f\"Station {station} prediction mean: {station_prediction[0].mean().item():.4f}\")"
   ]
  },
  {
   "cell_type": "code",
   "execution_count": null,
   "metadata": {},
   "outputs": [
    {
     "name": "stdout",
     "output_type": "stream",
     "text": [
      "\n",
      "Prediction statistics:\n",
      "Station Alipur: Min=22.96, Max=28.34, Mean=25.76, Std=1.64\n",
      "Station Anand Vihar: Min=34.68, Max=42.24, Mean=38.63, Std=2.31\n",
      "Station Ashok Vihar: Min=19.51, Max=24.17, Mean=21.94, Std=1.42\n",
      "Station Aya Nagar: Min=17.14, Max=21.40, Mean=19.36, Std=1.30\n",
      "Station Bawana: Min=27.59, Max=33.81, Mean=30.84, Std=1.90\n",
      "Station Burari Crossing: Min=21.40, Max=26.53, Mean=24.07, Std=1.57\n",
      "Station CRRI Mathura Road: Min=16.81, Max=21.78, Mean=19.38, Std=1.52\n",
      "Station Chandni Chowk: Min=28.03, Max=32.12, Mean=30.19, Std=1.25\n",
      "Station DTU: Min=26.66, Max=29.79, Mean=28.31, Std=0.95\n",
      "Station Dr. Karni Singh Shooting Range: Min=24.09, Max=28.86, Mean=26.59, Std=1.45\n",
      "Station Dwarka Sector 8: Min=24.94, Max=30.46, Mean=27.82, Std=1.68\n",
      "Station East Arjun Nagar: Min=27.97, Max=27.98, Mean=27.98, Std=0.00\n",
      "Station IGI Airport: Min=23.89, Max=28.66, Mean=26.39, Std=1.46\n",
      "Station IHBAS: Min=26.23, Max=30.93, Mean=28.69, Std=1.43\n",
      "Station ITO: Min=26.69, Max=31.64, Mean=29.28, Std=1.51\n",
      "Station Jahangirpuri: Min=28.56, Max=35.27, Mean=32.06, Std=2.05\n",
      "Station Jawaharlal Nehru Stadium: Min=22.08, Max=26.51, Mean=24.40, Std=1.35\n",
      "Station Lodhi Road: Min=19.36, Max=23.30, Mean=21.42, Std=1.20\n",
      "Station Major Dhyan Chand National Stadium: Min=25.87, Max=30.73, Mean=28.42, Std=1.48\n",
      "Station Mandir Marg: Min=24.01, Max=28.87, Mean=26.55, Std=1.48\n",
      "Station Mundka: Min=25.33, Max=31.83, Mean=28.71, Std=1.98\n",
      "Station NSIT Dwarka: Min=22.03, Max=28.91, Mean=25.58, Std=2.10\n",
      "Station Najafgarh: Min=16.63, Max=21.34, Mean=19.07, Std=1.44\n",
      "Station Narela: Min=26.21, Max=32.43, Mean=29.45, Std=1.90\n",
      "Station Nehru Nagar: Min=27.67, Max=33.89, Mean=30.92, Std=1.90\n",
      "Station North Campus: Min=13.64, Max=18.50, Mean=16.14, Std=1.48\n",
      "Station Okhla Phase 2: Min=23.39, Max=28.46, Mean=26.04, Std=1.55\n",
      "Station Patparganj: Min=26.49, Max=32.39, Mean=29.57, Std=1.80\n",
      "Station Punjabi Bagh: Min=26.94, Max=33.09, Mean=30.15, Std=1.87\n",
      "Station Pusa: Min=24.61, Max=29.48, Mean=27.16, Std=1.49\n",
      "Station R K Puram: Min=23.57, Max=29.32, Mean=26.56, Std=1.76\n",
      "Station Rohini: Min=28.51, Max=34.53, Mean=31.65, Std=1.84\n",
      "Station Shadipur: Min=55.25, Max=64.97, Mean=60.36, Std=2.96\n",
      "Station Sonia Vihar: Min=27.88, Max=33.78, Mean=30.97, Std=1.80\n",
      "Station Sri Aurobindo Marg: Min=22.13, Max=26.35, Mean=24.34, Std=1.29\n",
      "Station Vivek Vihar: Min=29.30, Max=36.23, Mean=32.91, Std=2.11\n",
      "Station Wazirpur: Min=29.12, Max=35.34, Mean=32.37, Std=1.90\n",
      "\n",
      "Forecasting completed. Plots saved to /home/naradaw/code/GCNTFT/outputs/images_tft_only/04031004_station_specific\n"
     ]
    }
   ],
   "source": [
    "# Set up output directory\n",
    "output_loc = f\"/home/naradaw/code/GCNTFT/outputs/images_tft_only/{pd.Timestamp.now().strftime('%m%d%H%M')}_station_specific\"\n",
    "\n",
    "if not os.path.exists(output_loc):\n",
    "    os.makedirs(output_loc)\n",
    "\n",
    "# Plot predictions for each station using station-specific predictions\n",
    "for station in station_ids:\n",
    "    # Get the prediction for this station\n",
    "    station_pred = station_preds_dict[station]\n",
    "    \n",
    "    plt.figure(figsize=(10, 6))\n",
    "    \n",
    "    # Plot the prediction\n",
    "    plt.plot(range(max_prediction_length), station_pred, label='Prediction', color='blue')\n",
    "    \n",
    "    # Get historical data for comparison\n",
    "    historical = air_quality_df[air_quality_df['station_loc'] == station].tail(max_encoder_length)['PM25'].values\n",
    "    plt.plot(range(-len(historical), 0), historical, label='Historical', color='green')\n",
    "    \n",
    "    # Check if we have actual future data for this station\n",
    "    station_data = air_quality_df[air_quality_df['station_loc'] == station]\n",
    "    last_historical_idx = station_data[station_data['time_idx'] <= station_data['time_idx'].max() - max_prediction_length].tail(1)['time_idx'].item()\n",
    "    \n",
    "    # Get actual values for the prediction period if they exist in the dataset\n",
    "    future_indices = range(last_historical_idx + 1, last_historical_idx + max_prediction_length + 1)\n",
    "    future_data = station_data[station_data['time_idx'].isin(future_indices)]['PM25'].values\n",
    "    \n",
    "    # Plot actual future values if available\n",
    "    if len(future_data) > 0:\n",
    "        plt.plot(range(min(len(future_data), max_prediction_length)), future_data[:max_prediction_length], \n",
    "                 label='Actual', color='red', linestyle='-')\n",
    "    \n",
    "    plt.axvline(x=0, linestyle='--', color='gray')\n",
    "    plt.title(f'24-Hour Air Quality Forecast for Station {station}')\n",
    "    plt.xlabel('Hours')\n",
    "    plt.ylabel('PM25')\n",
    "    plt.legend()\n",
    "    plt.grid(True)\n",
    "    \n",
    "    # Save the plot\n",
    "    plt.savefig(os.path.join(output_loc, f'station_{station}_forecast.png'))\n",
    "    plt.close()\n",
    "\n",
    "# Plot summary comparison of all station predictions\n",
    "plt.figure(figsize=(12, 8))\n",
    "for station in station_ids:\n",
    "    plt.plot(range(max_prediction_length), station_preds_dict[station], label=f'Station {station}')\n",
    "\n",
    "plt.title('Comparison of Predictions Across All Stations')\n",
    "plt.xlabel('Hours')\n",
    "plt.ylabel('PM25')\n",
    "plt.legend()\n",
    "plt.grid(True)\n",
    "plt.savefig(os.path.join(output_loc, 'all_stations_comparison.png'))\n",
    "plt.close()\n",
    "\n",
    "# Print prediction statistics\n",
    "print(\"\\nPrediction statistics:\")\n",
    "for station in station_ids:\n",
    "    pred = station_preds_dict[station]\n",
    "    print(f\"Station {station}: Min={pred.min():.2f}, Max={pred.max():.2f}, Mean={pred.mean():.2f}, Std={pred.std():.2f}\")\n",
    "\n",
    "print(f\"\\nForecasting completed. Plots saved to {output_loc}\")"
   ]
  },
  {
   "cell_type": "code",
   "execution_count": null,
   "metadata": {},
   "outputs": [
    {
     "name": "stderr",
     "output_type": "stream",
     "text": [
      "You are using the plain ModelCheckpoint callback. Consider using LitModelCheckpoint which with seamless uploading to Model registry.\n",
      "GPU available: True (cuda), used: True\n",
      "TPU available: False, using: 0 TPU cores\n",
      "HPU available: False, using: 0 HPUs\n",
      "LOCAL_RANK: 0 - CUDA_VISIBLE_DEVICES: [0]\n"
     ]
    },
    {
     "ename": "ValueError",
     "evalue": "too many values to unpack (expected 2)",
     "output_type": "error",
     "traceback": [
      "\u001b[31m---------------------------------------------------------------------------\u001b[39m",
      "\u001b[31mValueError\u001b[39m                                Traceback (most recent call last)",
      "\u001b[36mCell\u001b[39m\u001b[36m \u001b[39m\u001b[32mIn[48]\u001b[39m\u001b[32m, line 2\u001b[39m\n\u001b[32m      1\u001b[39m \u001b[38;5;66;03m# Check variable importance\u001b[39;00m\n\u001b[32m----> \u001b[39m\u001b[32m2\u001b[39m raw_predictions, x = tft.predict(val_dataloader, return_x=\u001b[38;5;28;01mTrue\u001b[39;00m)\n",
      "\u001b[31mValueError\u001b[39m: too many values to unpack (expected 2)"
     ]
    }
   ],
   "source": [
    "# Check variable importance\n",
    "raw_predictions, x = tft.predict(val_dataloader, return_x=True)\n"
   ]
  },
  {
   "cell_type": "code",
   "execution_count": null,
   "metadata": {},
   "outputs": [
    {
     "ename": "AttributeError",
     "evalue": "'TemporalFusionTransformer' object has no attribute 'interpret_prediction'",
     "output_type": "error",
     "traceback": [
      "\u001b[31m---------------------------------------------------------------------------\u001b[39m",
      "\u001b[31mAttributeError\u001b[39m                            Traceback (most recent call last)",
      "\u001b[36mCell\u001b[39m\u001b[36m \u001b[39m\u001b[32mIn[15]\u001b[39m\u001b[32m, line 2\u001b[39m\n\u001b[32m      1\u001b[39m \u001b[38;5;66;03m# Generate interpretation\u001b[39;00m\n\u001b[32m----> \u001b[39m\u001b[32m2\u001b[39m interpretation = \u001b[43mtft\u001b[49m\u001b[43m.\u001b[49m\u001b[43minterpret_prediction\u001b[49m(x, reduction=\u001b[33m\"\u001b[39m\u001b[33mmean\u001b[39m\u001b[33m\"\u001b[39m)\n\u001b[32m      4\u001b[39m \u001b[38;5;66;03m# Plot variable importance\u001b[39;00m\n\u001b[32m      5\u001b[39m plt.figure(figsize=(\u001b[32m10\u001b[39m, \u001b[32m8\u001b[39m))\n",
      "\u001b[36mFile \u001b[39m\u001b[32m~/miniconda3/envs/gnns/lib/python3.13/site-packages/torch/nn/modules/module.py:1928\u001b[39m, in \u001b[36mModule.__getattr__\u001b[39m\u001b[34m(self, name)\u001b[39m\n\u001b[32m   1926\u001b[39m     \u001b[38;5;28;01mif\u001b[39;00m name \u001b[38;5;129;01min\u001b[39;00m modules:\n\u001b[32m   1927\u001b[39m         \u001b[38;5;28;01mreturn\u001b[39;00m modules[name]\n\u001b[32m-> \u001b[39m\u001b[32m1928\u001b[39m \u001b[38;5;28;01mraise\u001b[39;00m \u001b[38;5;167;01mAttributeError\u001b[39;00m(\n\u001b[32m   1929\u001b[39m     \u001b[33mf\u001b[39m\u001b[33m\"\u001b[39m\u001b[33m'\u001b[39m\u001b[38;5;132;01m{\u001b[39;00m\u001b[38;5;28mtype\u001b[39m(\u001b[38;5;28mself\u001b[39m).\u001b[34m__name__\u001b[39m\u001b[38;5;132;01m}\u001b[39;00m\u001b[33m'\u001b[39m\u001b[33m object has no attribute \u001b[39m\u001b[33m'\u001b[39m\u001b[38;5;132;01m{\u001b[39;00mname\u001b[38;5;132;01m}\u001b[39;00m\u001b[33m'\u001b[39m\u001b[33m\"\u001b[39m\n\u001b[32m   1930\u001b[39m )\n",
      "\u001b[31mAttributeError\u001b[39m: 'TemporalFusionTransformer' object has no attribute 'interpret_prediction'"
     ]
    }
   ],
   "source": [
    "\n",
    "# Generate interpretation\n",
    "interpretation = tft.interpret_prediction(x, reduction=\"mean\")\n",
    "\n",
    "# Plot variable importance\n",
    "plt.figure(figsize=(10, 8))\n",
    "order = interpretation[\"static_variables\"].mean(axis=0).argsort()\n",
    "plt.barh(\n",
    "    np.array(interpretation[\"static_variable_names\"])[order],\n",
    "    interpretation[\"static_variables\"].mean(axis=0)[order]\n",
    ")\n",
    "plt.title(\"Static Variable Importance\")\n",
    "plt.tight_layout()\n",
    "plt.savefig(os.path.join(output_loc, \"static_variable_importance.png\"))"
   ]
  },
  {
   "cell_type": "code",
   "execution_count": null,
   "metadata": {},
   "outputs": [
    {
     "data": {
      "text/plain": [
       "'Burari Crossing'"
      ]
     },
     "execution_count": 36,
     "metadata": {},
     "output_type": "execute_result"
    }
   ],
   "source": [
    "station = station_ids[5]\n",
    "station"
   ]
  },
  {
   "cell_type": "code",
   "execution_count": null,
   "metadata": {},
   "outputs": [
    {
     "data": {
      "text/plain": [
       "5"
      ]
     },
     "execution_count": 37,
     "metadata": {},
     "output_type": "execute_result"
    }
   ],
   "source": [
    "station_idx = station_mapping[station]\n",
    "station_idx"
   ]
  },
  {
   "cell_type": "code",
   "execution_count": null,
   "metadata": {},
   "outputs": [
    {
     "data": {
      "text/plain": [
       "array([24.984472, 25.007977, 25.178965, 25.487686, 25.921286, 26.458723,\n",
       "       27.062433, 27.662863, 28.14237 , 28.3374  , 28.094805, 27.365152,\n",
       "       26.261204, 25.020758, 23.92476 , 23.203539, 22.960508, 23.161558,\n",
       "       23.692024, 24.422945, 25.249105, 26.096481, 26.921837, 27.700588],\n",
       "      dtype=float32)"
      ]
     },
     "execution_count": 38,
     "metadata": {},
     "output_type": "execute_result"
    }
   ],
   "source": [
    "station_preds = predictions[station_idx].detach().cpu().numpy()\n",
    "station_preds"
   ]
  },
  {
   "cell_type": "code",
   "execution_count": null,
   "metadata": {},
   "outputs": [
    {
     "data": {
      "text/plain": [
       "np.int64(8760)"
      ]
     },
     "execution_count": 39,
     "metadata": {},
     "output_type": "execute_result"
    }
   ],
   "source": [
    "last_timestamp = air_quality_df[air_quality_df['station_loc'] == station]['time_idx'].max()\n",
    "last_timestamp"
   ]
  },
  {
   "cell_type": "code",
   "execution_count": null,
   "metadata": {},
   "outputs": [
    {
     "data": {
      "text/plain": [
       "0           Alipur\n",
       "1           Alipur\n",
       "2           Alipur\n",
       "3           Alipur\n",
       "4           Alipur\n",
       "            ...   \n",
       "324152    Wazirpur\n",
       "324153    Wazirpur\n",
       "324154    Wazirpur\n",
       "324155    Wazirpur\n",
       "324156    Wazirpur\n",
       "Name: station_loc, Length: 324157, dtype: object"
      ]
     },
     "execution_count": 40,
     "metadata": {},
     "output_type": "execute_result"
    }
   ],
   "source": [
    "air_quality_df['station_loc']"
   ]
  },
  {
   "cell_type": "code",
   "execution_count": null,
   "metadata": {},
   "outputs": [
    {
     "data": {
      "text/html": [
       "<div>\n",
       "<style scoped>\n",
       "    .dataframe tbody tr th:only-of-type {\n",
       "        vertical-align: middle;\n",
       "    }\n",
       "\n",
       "    .dataframe tbody tr th {\n",
       "        vertical-align: top;\n",
       "    }\n",
       "\n",
       "    .dataframe thead th {\n",
       "        text-align: right;\n",
       "    }\n",
       "</style>\n",
       "<table border=\"1\" class=\"dataframe\">\n",
       "  <thead>\n",
       "    <tr style=\"text-align: right;\">\n",
       "      <th></th>\n",
       "      <th>datetime</th>\n",
       "      <th>time_idx</th>\n",
       "      <th>PM25</th>\n",
       "      <th>latitude</th>\n",
       "      <th>longitude</th>\n",
       "      <th>station_loc</th>\n",
       "      <th>group_id</th>\n",
       "      <th>hour</th>\n",
       "      <th>day_of_week</th>\n",
       "      <th>month</th>\n",
       "    </tr>\n",
       "  </thead>\n",
       "  <tbody>\n",
       "    <tr>\n",
       "      <th>43805</th>\n",
       "      <td>2022-03-31 23:00:00</td>\n",
       "      <td>0</td>\n",
       "      <td>107.52</td>\n",
       "      <td>28.728594</td>\n",
       "      <td>77.199325</td>\n",
       "      <td>Burari Crossing</td>\n",
       "      <td>5</td>\n",
       "      <td>23</td>\n",
       "      <td>3</td>\n",
       "      <td>3</td>\n",
       "    </tr>\n",
       "    <tr>\n",
       "      <th>43806</th>\n",
       "      <td>2022-04-01 00:00:00</td>\n",
       "      <td>1</td>\n",
       "      <td>81.85</td>\n",
       "      <td>28.728594</td>\n",
       "      <td>77.199325</td>\n",
       "      <td>Burari Crossing</td>\n",
       "      <td>5</td>\n",
       "      <td>0</td>\n",
       "      <td>4</td>\n",
       "      <td>4</td>\n",
       "    </tr>\n",
       "    <tr>\n",
       "      <th>43807</th>\n",
       "      <td>2022-04-01 01:00:00</td>\n",
       "      <td>2</td>\n",
       "      <td>60.89</td>\n",
       "      <td>28.728594</td>\n",
       "      <td>77.199325</td>\n",
       "      <td>Burari Crossing</td>\n",
       "      <td>5</td>\n",
       "      <td>1</td>\n",
       "      <td>4</td>\n",
       "      <td>4</td>\n",
       "    </tr>\n",
       "    <tr>\n",
       "      <th>43808</th>\n",
       "      <td>2022-04-01 02:00:00</td>\n",
       "      <td>3</td>\n",
       "      <td>71.02</td>\n",
       "      <td>28.728594</td>\n",
       "      <td>77.199325</td>\n",
       "      <td>Burari Crossing</td>\n",
       "      <td>5</td>\n",
       "      <td>2</td>\n",
       "      <td>4</td>\n",
       "      <td>4</td>\n",
       "    </tr>\n",
       "    <tr>\n",
       "      <th>43809</th>\n",
       "      <td>2022-04-01 03:00:00</td>\n",
       "      <td>4</td>\n",
       "      <td>67.48</td>\n",
       "      <td>28.728594</td>\n",
       "      <td>77.199325</td>\n",
       "      <td>Burari Crossing</td>\n",
       "      <td>5</td>\n",
       "      <td>3</td>\n",
       "      <td>4</td>\n",
       "      <td>4</td>\n",
       "    </tr>\n",
       "    <tr>\n",
       "      <th>...</th>\n",
       "      <td>...</td>\n",
       "      <td>...</td>\n",
       "      <td>...</td>\n",
       "      <td>...</td>\n",
       "      <td>...</td>\n",
       "      <td>...</td>\n",
       "      <td>...</td>\n",
       "      <td>...</td>\n",
       "      <td>...</td>\n",
       "      <td>...</td>\n",
       "    </tr>\n",
       "    <tr>\n",
       "      <th>52561</th>\n",
       "      <td>2023-03-31 19:00:00</td>\n",
       "      <td>8756</td>\n",
       "      <td>12.63</td>\n",
       "      <td>28.728594</td>\n",
       "      <td>77.199325</td>\n",
       "      <td>Burari Crossing</td>\n",
       "      <td>5</td>\n",
       "      <td>19</td>\n",
       "      <td>4</td>\n",
       "      <td>3</td>\n",
       "    </tr>\n",
       "    <tr>\n",
       "      <th>52562</th>\n",
       "      <td>2023-03-31 20:00:00</td>\n",
       "      <td>8757</td>\n",
       "      <td>28.63</td>\n",
       "      <td>28.728594</td>\n",
       "      <td>77.199325</td>\n",
       "      <td>Burari Crossing</td>\n",
       "      <td>5</td>\n",
       "      <td>20</td>\n",
       "      <td>4</td>\n",
       "      <td>3</td>\n",
       "    </tr>\n",
       "    <tr>\n",
       "      <th>52563</th>\n",
       "      <td>2023-03-31 21:00:00</td>\n",
       "      <td>8758</td>\n",
       "      <td>19.34</td>\n",
       "      <td>28.728594</td>\n",
       "      <td>77.199325</td>\n",
       "      <td>Burari Crossing</td>\n",
       "      <td>5</td>\n",
       "      <td>21</td>\n",
       "      <td>4</td>\n",
       "      <td>3</td>\n",
       "    </tr>\n",
       "    <tr>\n",
       "      <th>52564</th>\n",
       "      <td>2023-03-31 22:00:00</td>\n",
       "      <td>8759</td>\n",
       "      <td>25.36</td>\n",
       "      <td>28.728594</td>\n",
       "      <td>77.199325</td>\n",
       "      <td>Burari Crossing</td>\n",
       "      <td>5</td>\n",
       "      <td>22</td>\n",
       "      <td>4</td>\n",
       "      <td>3</td>\n",
       "    </tr>\n",
       "    <tr>\n",
       "      <th>52565</th>\n",
       "      <td>2023-03-31 23:00:00</td>\n",
       "      <td>8760</td>\n",
       "      <td>23.94</td>\n",
       "      <td>28.728594</td>\n",
       "      <td>77.199325</td>\n",
       "      <td>Burari Crossing</td>\n",
       "      <td>5</td>\n",
       "      <td>23</td>\n",
       "      <td>4</td>\n",
       "      <td>3</td>\n",
       "    </tr>\n",
       "  </tbody>\n",
       "</table>\n",
       "<p>8761 rows × 10 columns</p>\n",
       "</div>"
      ],
      "text/plain": [
       "                 datetime  time_idx    PM25   latitude  longitude  \\\n",
       "43805 2022-03-31 23:00:00         0  107.52  28.728594  77.199325   \n",
       "43806 2022-04-01 00:00:00         1   81.85  28.728594  77.199325   \n",
       "43807 2022-04-01 01:00:00         2   60.89  28.728594  77.199325   \n",
       "43808 2022-04-01 02:00:00         3   71.02  28.728594  77.199325   \n",
       "43809 2022-04-01 03:00:00         4   67.48  28.728594  77.199325   \n",
       "...                   ...       ...     ...        ...        ...   \n",
       "52561 2023-03-31 19:00:00      8756   12.63  28.728594  77.199325   \n",
       "52562 2023-03-31 20:00:00      8757   28.63  28.728594  77.199325   \n",
       "52563 2023-03-31 21:00:00      8758   19.34  28.728594  77.199325   \n",
       "52564 2023-03-31 22:00:00      8759   25.36  28.728594  77.199325   \n",
       "52565 2023-03-31 23:00:00      8760   23.94  28.728594  77.199325   \n",
       "\n",
       "           station_loc  group_id hour day_of_week month  \n",
       "43805  Burari Crossing         5   23           3     3  \n",
       "43806  Burari Crossing         5    0           4     4  \n",
       "43807  Burari Crossing         5    1           4     4  \n",
       "43808  Burari Crossing         5    2           4     4  \n",
       "43809  Burari Crossing         5    3           4     4  \n",
       "...                ...       ...  ...         ...   ...  \n",
       "52561  Burari Crossing         5   19           4     3  \n",
       "52562  Burari Crossing         5   20           4     3  \n",
       "52563  Burari Crossing         5   21           4     3  \n",
       "52564  Burari Crossing         5   22           4     3  \n",
       "52565  Burari Crossing         5   23           4     3  \n",
       "\n",
       "[8761 rows x 10 columns]"
      ]
     },
     "execution_count": 41,
     "metadata": {},
     "output_type": "execute_result"
    }
   ],
   "source": [
    "air_quality_df[air_quality_df['station_loc'] == station]"
   ]
  },
  {
   "cell_type": "code",
   "execution_count": null,
   "metadata": {},
   "outputs": [
    {
     "name": "stdout",
     "output_type": "stream",
     "text": [
      "Forecasting completed. Plots saved to outputs/images/\n"
     ]
    }
   ],
   "source": [
    "output_loc = f\"/home/naradaw/code/GCNTFT/outputs/images_tft_only/{pd.Timestamp.now().strftime('%m%d%H%M')}\"\n",
    "\n",
    "if not os.path.exists(output_loc):\n",
    "    os.makedirs(output_loc)\n",
    "\n",
    "# Plot predictions for each station\n",
    "for station in station_ids:\n",
    "    station_idx = station_mapping[station]\n",
    "    station_preds = predictions[station_idx].detach().cpu().numpy()\n",
    "    \n",
    "    # Get the future actual values for comparison if they exist\n",
    "    last_timestamp = air_quality_df[air_quality_df['station_loc'] == station]['time_idx'].max()\n",
    "    \n",
    "    # Check if we have actual data for the prediction period\n",
    "    station_data = air_quality_df[air_quality_df['station_loc'] == station]\n",
    "    last_historical_idx = station_data.iloc[-1]['time_idx']\n",
    "    \n",
    "    # Get actual values for the prediction period if they exist in the dataset\n",
    "    future_data = None\n",
    "    if last_timestamp >= last_historical_idx + max_prediction_length:\n",
    "        future_indices = range(last_historical_idx + 1, last_historical_idx + max_prediction_length + 1)\n",
    "        future_data = station_data[station_data['time_idx'].isin(future_indices)]['PM25'].values\n",
    "    plt.figure(figsize=(10, 6))\n",
    "    plt.plot(range(max_prediction_length), station_preds, label='Prediction')\n",
    "    \n",
    "    # Get historical data for comparison\n",
    "    historical = air_quality_df[air_quality_df['station_loc'] == station].tail(max_encoder_length)['PM25'].values\n",
    "    plt.plot(range(-len(historical), 0), historical, label='Historical')\n",
    "    \n",
    "    plt.axvline(x=0, linestyle='--', color='gray')\n",
    "    plt.title(f'24-Hour Air Quality Forecast for Station {station}')\n",
    "    plt.xlabel('Hours')\n",
    "    plt.ylabel('PM25')\n",
    "    plt.legend()\n",
    "    plt.grid(True)\n",
    "    \n",
    "    # Save the plot\n",
    "    \n",
    "    plt.savefig(os.path.join(output_loc, f'station_{station}_forecast.png'))\n",
    "    plt.close()\n",
    "\n",
    "print(\"Forecasting completed. Plots saved to outputs/images/\")"
   ]
  },
  {
   "cell_type": "code",
   "execution_count": null,
   "metadata": {},
   "outputs": [],
   "source": []
  }
 ],
 "metadata": {
  "kernelspec": {
   "display_name": "gnns",
   "language": "python",
   "name": "python3"
  },
  "language_info": {
   "codemirror_mode": {
    "name": "ipython",
    "version": 3
   },
   "file_extension": ".py",
   "mimetype": "text/x-python",
   "name": "python",
   "nbconvert_exporter": "python",
   "pygments_lexer": "ipython3",
   "version": "3.13.2"
  }
 },
 "nbformat": 4,
 "nbformat_minor": 2
}
