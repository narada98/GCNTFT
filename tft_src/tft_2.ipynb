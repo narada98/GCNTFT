{
 "cells": [
  {
   "cell_type": "code",
   "execution_count": 1,
   "metadata": {},
   "outputs": [],
   "source": [
    "import os\n",
    "import numpy as np\n",
    "import pandas as pd\n",
    "import matplotlib.pyplot as plt\n",
    "import torch\n",
    "import torch.nn as nn\n",
    "from torch.utils.data import Dataset, DataLoader"
   ]
  },
  {
   "cell_type": "code",
   "execution_count": 2,
   "metadata": {},
   "outputs": [],
   "source": [
    "import lightning.pytorch as pl\n",
    "from lightning.pytorch.callbacks import EarlyStopping, LearningRateMonitor"
   ]
  },
  {
   "cell_type": "code",
   "execution_count": 3,
   "metadata": {},
   "outputs": [
    {
     "name": "stderr",
     "output_type": "stream",
     "text": [
      "/home/naradaw/miniconda3/envs/gnns/lib/python3.13/site-packages/pytorch_forecasting/models/base_model.py:27: TqdmWarning: IProgress not found. Please update jupyter and ipywidgets. See https://ipywidgets.readthedocs.io/en/stable/user_install.html\n",
      "  from tqdm.autonotebook import tqdm\n"
     ]
    }
   ],
   "source": [
    "from pytorch_forecasting.models import TemporalFusionTransformer\n",
    "from pytorch_forecasting.data import TimeSeriesDataSet, GroupNormalizer\n",
    "from pytorch_forecasting.metrics import QuantileLoss"
   ]
  },
  {
   "cell_type": "code",
   "execution_count": 4,
   "metadata": {},
   "outputs": [
    {
     "data": {
      "text/plain": [
       "device(type='cuda')"
      ]
     },
     "execution_count": 4,
     "metadata": {},
     "output_type": "execute_result"
    }
   ],
   "source": [
    "device = torch.device(\"cuda\" if torch.cuda.is_available() else \"cpu\")\n",
    "device"
   ]
  },
  {
   "cell_type": "code",
   "execution_count": 5,
   "metadata": {},
   "outputs": [],
   "source": [
    "torch.set_float32_matmul_precision('medium')"
   ]
  },
  {
   "cell_type": "code",
   "execution_count": 6,
   "metadata": {},
   "outputs": [],
   "source": [
    "# Define paths\n",
    "data_path = \"/home/naradaw/code/GCNTFT/data/processed/data_w_geo_v3.csv\"\n",
    "embeddings_path = \"/home/naradaw/code/GCNTFT/data/embeddings_v2_lap_202503312035/tft_ready_embeddings.csv\"\n",
    "\n",
    "# Load the air quality data\n",
    "air_quality_df = pd.read_csv(data_path)\n",
    "air_quality_df['datetime'] = pd.to_datetime(air_quality_df['datetime'])\n",
    "\n",
    "# Load the embeddings\n",
    "embeddings_df = pd.read_csv(embeddings_path, index_col=0)\n"
   ]
  },
  {
   "cell_type": "code",
   "execution_count": 7,
   "metadata": {},
   "outputs": [],
   "source": [
    "\n",
    "# Convert the datetime to proper format for TimeSeriesDataSet\n",
    "air_quality_df['time_idx'] = (air_quality_df['datetime'] - air_quality_df['datetime'].min()).dt.total_seconds() // 3600\n",
    "air_quality_df['time_idx'] = air_quality_df['time_idx'].astype(int)\n",
    "air_quality_df = air_quality_df.sort_values(['station_loc', 'time_idx'])\n"
   ]
  },
  {
   "cell_type": "code",
   "execution_count": 8,
   "metadata": {},
   "outputs": [
    {
     "name": "stdout",
     "output_type": "stream",
     "text": [
      "Number of unique stations: 37\n",
      "Sample station names:\n",
      "['Alipur' 'Anand Vihar' 'Ashok Vihar' 'Aya Nagar' 'Bawana']\n",
      "\n",
      "After removing parentheses:\n",
      "['Alipur' 'Anand Vihar' 'Ashok Vihar' 'Aya Nagar' 'Bawana']\n",
      "Number of unique stations after cleaning: 37\n"
     ]
    }
   ],
   "source": [
    "import re\n",
    "\n",
    "air_quality_df['station_loc'] = air_quality_df['station_loc'].apply(lambda x: x.split(\",\")[0].strip())\n",
    "# Display the unique station names\n",
    "unique_stations = air_quality_df['station_loc'].unique()\n",
    "print(f\"Number of unique stations: {len(unique_stations)}\")\n",
    "print(\"Sample station names:\")\n",
    "print(unique_stations[:5])\n",
    "\n",
    "# Use regex to detect and remove parentheses from station names\n",
    "air_quality_df['station_loc'] = air_quality_df['station_loc'].apply(lambda x: re.sub(r'\\([^)]*\\)', '', x).strip())\n",
    "\n",
    "# Check if any changes were made\n",
    "print(\"\\nAfter removing parentheses:\")\n",
    "print(air_quality_df['station_loc'].unique()[:5])\n",
    "\n",
    "# Count unique station names after cleaning\n",
    "print(f\"Number of unique stations after cleaning: {len(air_quality_df['station_loc'].unique())}\")"
   ]
  },
  {
   "cell_type": "code",
   "execution_count": 9,
   "metadata": {},
   "outputs": [],
   "source": [
    "\n",
    "# Add a group_id column (required for pytorch-forecasting)\n",
    "station_ids = air_quality_df['station_loc'].unique()\n",
    "station_mapping = {station: idx for idx, station in enumerate(station_ids)}\n",
    "air_quality_df['group_id'] = air_quality_df['station_loc'].map(station_mapping)\n",
    "\n",
    "necessary_columns = ['datetime', 'time_idx', 'PM2.5 (ug/m3)', 'latitude', 'longitude', 'station_loc', 'group_id']\n",
    "air_quality_df = air_quality_df[necessary_columns]\n",
    "air_quality_df.rename(columns={'PM2.5 (ug/m3)': 'PM25'}, inplace=True)\n",
    "# air_quality_df['station_loc'] = air_quality_df['station_loc'].astype('category')"
   ]
  },
  {
   "cell_type": "code",
   "execution_count": 10,
   "metadata": {},
   "outputs": [
    {
     "data": {
      "text/html": [
       "<div>\n",
       "<style scoped>\n",
       "    .dataframe tbody tr th:only-of-type {\n",
       "        vertical-align: middle;\n",
       "    }\n",
       "\n",
       "    .dataframe tbody tr th {\n",
       "        vertical-align: top;\n",
       "    }\n",
       "\n",
       "    .dataframe thead th {\n",
       "        text-align: right;\n",
       "    }\n",
       "</style>\n",
       "<table border=\"1\" class=\"dataframe\">\n",
       "  <thead>\n",
       "    <tr style=\"text-align: right;\">\n",
       "      <th></th>\n",
       "      <th>datetime</th>\n",
       "      <th>time_idx</th>\n",
       "      <th>PM25</th>\n",
       "      <th>latitude</th>\n",
       "      <th>longitude</th>\n",
       "      <th>station_loc</th>\n",
       "      <th>group_id</th>\n",
       "    </tr>\n",
       "  </thead>\n",
       "  <tbody>\n",
       "    <tr>\n",
       "      <th>0</th>\n",
       "      <td>2022-03-31 23:00:00</td>\n",
       "      <td>0</td>\n",
       "      <td>122.0</td>\n",
       "      <td>28.797312</td>\n",
       "      <td>77.138667</td>\n",
       "      <td>Alipur</td>\n",
       "      <td>0</td>\n",
       "    </tr>\n",
       "    <tr>\n",
       "      <th>1</th>\n",
       "      <td>2022-04-01 00:00:00</td>\n",
       "      <td>1</td>\n",
       "      <td>85.0</td>\n",
       "      <td>28.797312</td>\n",
       "      <td>77.138667</td>\n",
       "      <td>Alipur</td>\n",
       "      <td>0</td>\n",
       "    </tr>\n",
       "    <tr>\n",
       "      <th>2</th>\n",
       "      <td>2022-04-01 01:00:00</td>\n",
       "      <td>2</td>\n",
       "      <td>85.0</td>\n",
       "      <td>28.797312</td>\n",
       "      <td>77.138667</td>\n",
       "      <td>Alipur</td>\n",
       "      <td>0</td>\n",
       "    </tr>\n",
       "    <tr>\n",
       "      <th>3</th>\n",
       "      <td>2022-04-01 02:00:00</td>\n",
       "      <td>3</td>\n",
       "      <td>81.0</td>\n",
       "      <td>28.797312</td>\n",
       "      <td>77.138667</td>\n",
       "      <td>Alipur</td>\n",
       "      <td>0</td>\n",
       "    </tr>\n",
       "    <tr>\n",
       "      <th>4</th>\n",
       "      <td>2022-04-01 03:00:00</td>\n",
       "      <td>4</td>\n",
       "      <td>68.0</td>\n",
       "      <td>28.797312</td>\n",
       "      <td>77.138667</td>\n",
       "      <td>Alipur</td>\n",
       "      <td>0</td>\n",
       "    </tr>\n",
       "  </tbody>\n",
       "</table>\n",
       "</div>"
      ],
      "text/plain": [
       "             datetime  time_idx   PM25   latitude  longitude station_loc  \\\n",
       "0 2022-03-31 23:00:00         0  122.0  28.797312  77.138667      Alipur   \n",
       "1 2022-04-01 00:00:00         1   85.0  28.797312  77.138667      Alipur   \n",
       "2 2022-04-01 01:00:00         2   85.0  28.797312  77.138667      Alipur   \n",
       "3 2022-04-01 02:00:00         3   81.0  28.797312  77.138667      Alipur   \n",
       "4 2022-04-01 03:00:00         4   68.0  28.797312  77.138667      Alipur   \n",
       "\n",
       "   group_id  \n",
       "0         0  \n",
       "1         0  \n",
       "2         0  \n",
       "3         0  \n",
       "4         0  "
      ]
     },
     "execution_count": 10,
     "metadata": {},
     "output_type": "execute_result"
    }
   ],
   "source": [
    "air_quality_df.head()"
   ]
  },
  {
   "cell_type": "code",
   "execution_count": 11,
   "metadata": {},
   "outputs": [],
   "source": [
    "# Add time features\n",
    "air_quality_df[\"hour\"] = pd.to_datetime(air_quality_df[\"datetime\"]).dt.hour.astype(\"category\")\n",
    "air_quality_df[\"day_of_week\"] = pd.to_datetime(air_quality_df[\"datetime\"]).dt.dayofweek.astype(\"category\")\n",
    "air_quality_df[\"month\"] = pd.to_datetime(air_quality_df[\"datetime\"]).dt.month.astype(\"category\")"
   ]
  },
  {
   "cell_type": "code",
   "execution_count": 12,
   "metadata": {},
   "outputs": [
    {
     "data": {
      "text/plain": [
       "datetime       datetime64[ns]\n",
       "time_idx                int64\n",
       "PM25                  float64\n",
       "latitude              float64\n",
       "longitude             float64\n",
       "station_loc            object\n",
       "group_id                int64\n",
       "hour                 category\n",
       "day_of_week          category\n",
       "month                category\n",
       "dtype: object"
      ]
     },
     "execution_count": 12,
     "metadata": {},
     "output_type": "execute_result"
    }
   ],
   "source": [
    "air_quality_df.dtypes"
   ]
  },
  {
   "cell_type": "code",
   "execution_count": 13,
   "metadata": {},
   "outputs": [
    {
     "data": {
      "text/html": [
       "<div>\n",
       "<style scoped>\n",
       "    .dataframe tbody tr th:only-of-type {\n",
       "        vertical-align: middle;\n",
       "    }\n",
       "\n",
       "    .dataframe tbody tr th {\n",
       "        vertical-align: top;\n",
       "    }\n",
       "\n",
       "    .dataframe thead th {\n",
       "        text-align: right;\n",
       "    }\n",
       "</style>\n",
       "<table border=\"1\" class=\"dataframe\">\n",
       "  <thead>\n",
       "    <tr style=\"text-align: right;\">\n",
       "      <th></th>\n",
       "      <th>datetime</th>\n",
       "      <th>time_idx</th>\n",
       "      <th>PM25</th>\n",
       "      <th>latitude</th>\n",
       "      <th>longitude</th>\n",
       "      <th>station_loc</th>\n",
       "      <th>group_id</th>\n",
       "      <th>hour</th>\n",
       "      <th>day_of_week</th>\n",
       "      <th>month</th>\n",
       "    </tr>\n",
       "  </thead>\n",
       "  <tbody>\n",
       "    <tr>\n",
       "      <th>0</th>\n",
       "      <td>2022-03-31 23:00:00</td>\n",
       "      <td>0</td>\n",
       "      <td>122.0</td>\n",
       "      <td>28.797312</td>\n",
       "      <td>77.138667</td>\n",
       "      <td>Alipur</td>\n",
       "      <td>0</td>\n",
       "      <td>23</td>\n",
       "      <td>3</td>\n",
       "      <td>3</td>\n",
       "    </tr>\n",
       "    <tr>\n",
       "      <th>1</th>\n",
       "      <td>2022-04-01 00:00:00</td>\n",
       "      <td>1</td>\n",
       "      <td>85.0</td>\n",
       "      <td>28.797312</td>\n",
       "      <td>77.138667</td>\n",
       "      <td>Alipur</td>\n",
       "      <td>0</td>\n",
       "      <td>0</td>\n",
       "      <td>4</td>\n",
       "      <td>4</td>\n",
       "    </tr>\n",
       "    <tr>\n",
       "      <th>2</th>\n",
       "      <td>2022-04-01 01:00:00</td>\n",
       "      <td>2</td>\n",
       "      <td>85.0</td>\n",
       "      <td>28.797312</td>\n",
       "      <td>77.138667</td>\n",
       "      <td>Alipur</td>\n",
       "      <td>0</td>\n",
       "      <td>1</td>\n",
       "      <td>4</td>\n",
       "      <td>4</td>\n",
       "    </tr>\n",
       "    <tr>\n",
       "      <th>3</th>\n",
       "      <td>2022-04-01 02:00:00</td>\n",
       "      <td>3</td>\n",
       "      <td>81.0</td>\n",
       "      <td>28.797312</td>\n",
       "      <td>77.138667</td>\n",
       "      <td>Alipur</td>\n",
       "      <td>0</td>\n",
       "      <td>2</td>\n",
       "      <td>4</td>\n",
       "      <td>4</td>\n",
       "    </tr>\n",
       "    <tr>\n",
       "      <th>4</th>\n",
       "      <td>2022-04-01 03:00:00</td>\n",
       "      <td>4</td>\n",
       "      <td>68.0</td>\n",
       "      <td>28.797312</td>\n",
       "      <td>77.138667</td>\n",
       "      <td>Alipur</td>\n",
       "      <td>0</td>\n",
       "      <td>3</td>\n",
       "      <td>4</td>\n",
       "      <td>4</td>\n",
       "    </tr>\n",
       "  </tbody>\n",
       "</table>\n",
       "</div>"
      ],
      "text/plain": [
       "             datetime  time_idx   PM25   latitude  longitude station_loc  \\\n",
       "0 2022-03-31 23:00:00         0  122.0  28.797312  77.138667      Alipur   \n",
       "1 2022-04-01 00:00:00         1   85.0  28.797312  77.138667      Alipur   \n",
       "2 2022-04-01 01:00:00         2   85.0  28.797312  77.138667      Alipur   \n",
       "3 2022-04-01 02:00:00         3   81.0  28.797312  77.138667      Alipur   \n",
       "4 2022-04-01 03:00:00         4   68.0  28.797312  77.138667      Alipur   \n",
       "\n",
       "   group_id hour day_of_week month  \n",
       "0         0   23           3     3  \n",
       "1         0    0           4     4  \n",
       "2         0    1           4     4  \n",
       "3         0    2           4     4  \n",
       "4         0    3           4     4  "
      ]
     },
     "execution_count": 13,
     "metadata": {},
     "output_type": "execute_result"
    }
   ],
   "source": [
    "air_quality_df.head()"
   ]
  },
  {
   "cell_type": "code",
   "execution_count": 14,
   "metadata": {},
   "outputs": [
    {
     "data": {
      "text/plain": [
       "array(['Alipur', 'Anand Vihar', 'Ashok Vihar', 'Aya Nagar', 'Bawana',\n",
       "       'Burari Crossing', 'CRRI Mathura Road', 'Chandni Chowk', 'DTU',\n",
       "       'Dr. Karni Singh Shooting Range', 'Dwarka Sector 8',\n",
       "       'East Arjun Nagar', 'IGI Airport', 'IHBAS', 'ITO', 'Jahangirpuri',\n",
       "       'Jawaharlal Nehru Stadium', 'Lodhi Road',\n",
       "       'Major Dhyan Chand National Stadium', 'Mandir Marg', 'Mundka',\n",
       "       'NSIT Dwarka', 'Najafgarh', 'Narela', 'Nehru Nagar',\n",
       "       'North Campus', 'Okhla Phase 2', 'Patparganj', 'Punjabi Bagh',\n",
       "       'Pusa', 'R K Puram', 'Rohini', 'Shadipur', 'Sonia Vihar',\n",
       "       'Sri Aurobindo Marg', 'Vivek Vihar', 'Wazirpur'], dtype=object)"
      ]
     },
     "execution_count": 14,
     "metadata": {},
     "output_type": "execute_result"
    }
   ],
   "source": [
    "air_quality_df['station_loc'].unique()"
   ]
  },
  {
   "cell_type": "code",
   "execution_count": 15,
   "metadata": {},
   "outputs": [
    {
     "data": {
      "text/plain": [
       "time_idx\n",
       "8760    37\n",
       "0       37\n",
       "1       37\n",
       "2       37\n",
       "3       37\n",
       "        ..\n",
       "13      37\n",
       "12      37\n",
       "11      37\n",
       "10      37\n",
       "9       37\n",
       "Name: count, Length: 8761, dtype: int64"
      ]
     },
     "execution_count": 15,
     "metadata": {},
     "output_type": "execute_result"
    }
   ],
   "source": [
    "air_quality_df['time_idx'].value_counts()"
   ]
  },
  {
   "cell_type": "code",
   "execution_count": 16,
   "metadata": {},
   "outputs": [
    {
     "name": "stdout",
     "output_type": "stream",
     "text": [
      "Number of unique stations: 37\n",
      "Station IDs: ['Alipur' 'Anand Vihar' 'Ashok Vihar' 'Aya Nagar' 'Bawana'\n",
      " 'Burari Crossing' 'CRRI Mathura Road' 'Chandni Chowk' 'DTU'\n",
      " 'Dr. Karni Singh Shooting Range' 'Dwarka Sector 8' 'East Arjun Nagar'\n",
      " 'IGI Airport' 'IHBAS' 'ITO' 'Jahangirpuri' 'Jawaharlal Nehru Stadium'\n",
      " 'Lodhi Road' 'Major Dhyan Chand National Stadium' 'Mandir Marg' 'Mundka'\n",
      " 'NSIT Dwarka' 'Najafgarh' 'Narela' 'Nehru Nagar' 'North Campus'\n",
      " 'Okhla Phase 2' 'Patparganj' 'Punjabi Bagh' 'Pusa' 'R K Puram' 'Rohini'\n",
      " 'Shadipur' 'Sonia Vihar' 'Sri Aurobindo Marg' 'Vivek Vihar' 'Wazirpur']\n",
      "Station Alipur: 8761 records, PM25 mean: 102.88\n",
      "Station Anand Vihar: 8761 records, PM25 mean: 121.38\n",
      "Station Ashok Vihar: 8761 records, PM25 mean: 98.88\n",
      "Station Aya Nagar: 8761 records, PM25 mean: 71.89\n",
      "Station Bawana: 8761 records, PM25 mean: 114.52\n",
      "Station Burari Crossing: 8761 records, PM25 mean: 109.38\n",
      "Station CRRI Mathura Road: 8761 records, PM25 mean: 90.10\n",
      "Station Chandni Chowk: 8761 records, PM25 mean: 67.09\n",
      "Station DTU: 8761 records, PM25 mean: 86.76\n",
      "Station Dr. Karni Singh Shooting Range: 8761 records, PM25 mean: 90.77\n",
      "Station Dwarka Sector 8: 8761 records, PM25 mean: 100.10\n",
      "Station East Arjun Nagar: 8761 records, PM25 mean: 27.00\n",
      "Station IGI Airport: 8761 records, PM25 mean: 83.11\n",
      "Station IHBAS: 8761 records, PM25 mean: 81.16\n",
      "Station ITO: 8761 records, PM25 mean: 106.43\n",
      "Station Jahangirpuri: 8761 records, PM25 mean: 119.42\n",
      "Station Jawaharlal Nehru Stadium: 8761 records, PM25 mean: 92.88\n",
      "Station Lodhi Road: 8761 records, PM25 mean: 69.90\n",
      "Station Major Dhyan Chand National Stadium: 8761 records, PM25 mean: 98.35\n",
      "Station Mandir Marg: 8761 records, PM25 mean: 86.10\n",
      "Station Mundka: 8761 records, PM25 mean: 113.61\n",
      "Station NSIT Dwarka: 8761 records, PM25 mean: 119.69\n",
      "Station Najafgarh: 8761 records, PM25 mean: 76.73\n",
      "Station Narela: 8761 records, PM25 mean: 109.02\n",
      "Station Nehru Nagar: 8761 records, PM25 mean: 115.09\n",
      "Station North Campus: 8761 records, PM25 mean: 91.82\n",
      "Station Okhla Phase 2: 8761 records, PM25 mean: 93.15\n",
      "Station Patparganj: 8761 records, PM25 mean: 108.73\n",
      "Station Punjabi Bagh: 8761 records, PM25 mean: 110.82\n",
      "Station Pusa: 8761 records, PM25 mean: 90.56\n",
      "Station R K Puram: 8761 records, PM25 mean: 106.35\n",
      "Station Rohini: 8761 records, PM25 mean: 109.05\n",
      "Station Shadipur: 8761 records, PM25 mean: 111.01\n",
      "Station Sonia Vihar: 8761 records, PM25 mean: 105.99\n",
      "Station Sri Aurobindo Marg: 8761 records, PM25 mean: 83.92\n",
      "Station Vivek Vihar: 8761 records, PM25 mean: 118.22\n",
      "Station Wazirpur: 8761 records, PM25 mean: 113.94\n"
     ]
    }
   ],
   "source": [
    "# Check unique stations\n",
    "print(f\"Number of unique stations: {air_quality_df['station_loc'].nunique()}\")\n",
    "print(f\"Station IDs: {air_quality_df['station_loc'].unique()}\")\n",
    "\n",
    "# Verify data distribution\n",
    "for station in air_quality_df['station_loc'].unique():\n",
    "    station_data = air_quality_df[air_quality_df['station_loc'] == station]\n",
    "    print(f\"Station {station}: {len(station_data)} records, PM25 mean: {station_data['PM25'].mean():.2f}\")"
   ]
  },
  {
   "cell_type": "code",
   "execution_count": 17,
   "metadata": {},
   "outputs": [],
   "source": [
    "from lightning.pytorch.loggers import MLFlowLogger\n",
    "\n",
    "mlf_logger = MLFlowLogger(experiment_name=\"tft_only_forecasting\", tracking_uri=\"file:./../mlflow_experiments\")\n",
    "# trainer = Trainer(logger=mlf_logger)"
   ]
  },
  {
   "cell_type": "code",
   "execution_count": 18,
   "metadata": {},
   "outputs": [
    {
     "name": "stderr",
     "output_type": "stream",
     "text": [
      "/home/naradaw/miniconda3/envs/gnns/lib/python3.13/site-packages/lightning/pytorch/utilities/parsing.py:209: Attribute 'loss' is an instance of `nn.Module` and is already saved during checkpointing. It is recommended to ignore them using `self.save_hyperparameters(ignore=['loss'])`.\n",
      "/home/naradaw/miniconda3/envs/gnns/lib/python3.13/site-packages/lightning/pytorch/utilities/parsing.py:209: Attribute 'logging_metrics' is an instance of `nn.Module` and is already saved during checkpointing. It is recommended to ignore them using `self.save_hyperparameters(ignore=['logging_metrics'])`.\n",
      "You are using the plain ModelCheckpoint callback. Consider using LitModelCheckpoint which with seamless uploading to Model registry.\n",
      "GPU available: True (cuda), used: True\n",
      "TPU available: False, using: 0 TPU cores\n",
      "HPU available: False, using: 0 HPUs\n",
      "LOCAL_RANK: 0 - CUDA_VISIBLE_DEVICES: [0]\n",
      "\n",
      "   | Name                               | Type                            | Params | Mode \n",
      "------------------------------------------------------------------------------------------------\n",
      "0  | loss                               | QuantileLoss                    | 0      | train\n",
      "1  | logging_metrics                    | ModuleList                      | 0      | train\n",
      "2  | input_embeddings                   | MultiEmbedding                  | 444    | train\n",
      "3  | prescalers                         | ModuleDict                      | 704    | train\n",
      "4  | static_variable_selection          | VariableSelectionNetwork        | 35.0 K | train\n",
      "5  | encoder_variable_selection         | VariableSelectionNetwork        | 42.0 K | train\n",
      "6  | decoder_variable_selection         | VariableSelectionNetwork        | 34.8 K | train\n",
      "7  | static_context_variable_selection  | GatedResidualNetwork            | 16.8 K | train\n",
      "8  | static_context_initial_hidden_lstm | GatedResidualNetwork            | 16.8 K | train\n",
      "9  | static_context_initial_cell_lstm   | GatedResidualNetwork            | 16.8 K | train\n",
      "10 | static_context_enrichment          | GatedResidualNetwork            | 16.8 K | train\n",
      "11 | lstm_encoder                       | LSTM                            | 33.3 K | train\n",
      "12 | lstm_decoder                       | LSTM                            | 33.3 K | train\n",
      "13 | post_lstm_gate_encoder             | GatedLinearUnit                 | 8.3 K  | train\n",
      "14 | post_lstm_add_norm_encoder         | AddNorm                         | 128    | train\n",
      "15 | static_enrichment                  | GatedResidualNetwork            | 20.9 K | train\n",
      "16 | multihead_attn                     | InterpretableMultiHeadAttention | 10.4 K | train\n",
      "17 | post_attn_gate_norm                | GateAddNorm                     | 8.4 K  | train\n",
      "18 | pos_wise_ff                        | GatedResidualNetwork            | 16.8 K | train\n",
      "19 | pre_output_gate_norm               | GateAddNorm                     | 8.4 K  | train\n",
      "20 | output_layer                       | Linear                          | 455    | train\n",
      "------------------------------------------------------------------------------------------------\n",
      "319 K     Trainable params\n",
      "0         Non-trainable params\n",
      "319 K     Total params\n",
      "1.278     Total estimated model params size (MB)\n",
      "401       Modules in train mode\n",
      "0         Modules in eval mode\n"
     ]
    },
    {
     "name": "stdout",
     "output_type": "stream",
     "text": [
      "Epoch 0: 100%|██████████| 5050/5050 [07:14<00:00, 11.63it/s, v_num=c6b7, train_loss_step=20.80, val_loss=18.30, train_loss_epoch=20.10]"
     ]
    },
    {
     "name": "stderr",
     "output_type": "stream",
     "text": [
      "Metric val_loss improved. New best score: 18.302\n"
     ]
    },
    {
     "name": "stdout",
     "output_type": "stream",
     "text": [
      "Epoch 9: 100%|██████████| 5050/5050 [07:30<00:00, 11.20it/s, v_num=c6b7, train_loss_step=15.00, val_loss=16.70, train_loss_epoch=20.20]"
     ]
    },
    {
     "name": "stderr",
     "output_type": "stream",
     "text": [
      "Metric val_loss improved by 1.586 >= min_delta = 0.0001. New best score: 16.716\n"
     ]
    },
    {
     "name": "stdout",
     "output_type": "stream",
     "text": [
      "Epoch 10: 100%|██████████| 5050/5050 [07:29<00:00, 11.24it/s, v_num=c6b7, train_loss_step=22.40, val_loss=16.30, train_loss_epoch=20.20]"
     ]
    },
    {
     "name": "stderr",
     "output_type": "stream",
     "text": [
      "Metric val_loss improved by 0.435 >= min_delta = 0.0001. New best score: 16.282\n"
     ]
    },
    {
     "name": "stdout",
     "output_type": "stream",
     "text": [
      "Epoch 20: 100%|██████████| 5050/5050 [07:30<00:00, 11.21it/s, v_num=c6b7, train_loss_step=18.00, val_loss=21.30, train_loss_epoch=20.10]"
     ]
    },
    {
     "name": "stderr",
     "output_type": "stream",
     "text": [
      "Monitored metric val_loss did not improve in the last 10 records. Best score: 16.282. Signaling Trainer to stop.\n"
     ]
    },
    {
     "name": "stdout",
     "output_type": "stream",
     "text": [
      "Epoch 20: 100%|██████████| 5050/5050 [07:35<00:00, 11.09it/s, v_num=c6b7, train_loss_step=18.00, val_loss=21.30, train_loss_epoch=20.10]\n"
     ]
    }
   ],
   "source": [
    "# Define max_prediction_length and max_encoder_length\n",
    "max_prediction_length = 24  # predict 24 hours ahead\n",
    "max_encoder_length = 168  # use 7 days of history (168 hours) for making predictions\n",
    "\n",
    "# Define time variables for training/validation split\n",
    "training_cutoff = air_quality_df[\"time_idx\"].max() - max_prediction_length * 2\n",
    "\n",
    "# Create the training dataset\n",
    "training = TimeSeriesDataSet(\n",
    "    data=air_quality_df[air_quality_df[\"time_idx\"] <= training_cutoff],\n",
    "    time_idx=\"time_idx\",\n",
    "    target=\"PM25\",\n",
    "    group_ids=[\"station_loc\"],\n",
    "    min_encoder_length=max_encoder_length // 2,  # allow for some missing data\n",
    "    max_encoder_length=max_encoder_length,\n",
    "    min_prediction_length=1,\n",
    "    max_prediction_length=max_prediction_length,\n",
    "    static_categoricals=[\"station_loc\"],\n",
    "    static_reals=[\"latitude\", \"longitude\"],\n",
    "    time_varying_known_categoricals=[],\n",
    "    time_varying_known_reals=[\"time_idx\",\"hour\", \"day_of_week\", \"month\"], #\"time_idx\"\n",
    "    time_varying_unknown_categoricals=[],\n",
    "    time_varying_unknown_reals=[\"PM25\"],\n",
    "    target_normalizer=GroupNormalizer(\n",
    "        groups=[\"station_loc\"], transformation=\"log1p\"\n",
    "    ),\n",
    "    add_relative_time_idx=True,\n",
    "    add_target_scales=True,\n",
    "    add_encoder_length=True,\n",
    ")\n",
    "\n",
    "# Create the validation dataset\n",
    "validation = TimeSeriesDataSet.from_dataset(training, air_quality_df, min_prediction_idx=training_cutoff + 1)\n",
    "\n",
    "# Create data loaders\n",
    "batch_size = 64\n",
    "train_dataloader = training.to_dataloader(train=True, batch_size=batch_size, num_workers=8, shuffle=True)\n",
    "val_dataloader = validation.to_dataloader(train=False, batch_size=batch_size * 2, num_workers=8)\n",
    "\n",
    "# Define TFT model\n",
    "tft = TemporalFusionTransformer.from_dataset(\n",
    "    training,\n",
    "    learning_rate=0.001,\n",
    "    hidden_size=64,           # Increase from 64\n",
    "    attention_head_size=4,     # Increase from 4\n",
    "    dropout=0.3,\n",
    "    hidden_continuous_size=32, # Increase from 32\n",
    "    loss=QuantileLoss(),\n",
    "    log_interval=10,\n",
    "    reduce_on_plateau_patience=4,\n",
    "    weight_decay = 0.001, #l2 regularization\n",
    ")\n",
    "\n",
    "# Create PyTorch Lightning trainer\n",
    "early_stop_callback = EarlyStopping(\n",
    "    monitor=\"val_loss\", \n",
    "    min_delta=1e-4, \n",
    "    patience=10, \n",
    "    verbose=True, \n",
    "    mode=\"min\"\n",
    ")\n",
    "lr_monitor = LearningRateMonitor(logging_interval=\"epoch\")\n",
    "\n",
    "trainer = pl.Trainer(\n",
    "    max_epochs=100,\n",
    "    accelerator=\"gpu\",\n",
    "    devices=1,\n",
    "    gradient_clip_val=0.1,\n",
    "    callbacks=[\n",
    "        early_stop_callback, \n",
    "        lr_monitor,\n",
    "        # Add learning rate scheduler\n",
    "        pl.callbacks.LearningRateMonitor(logging_interval='step')\n",
    "    ],\n",
    "    logger=mlf_logger\n",
    ")\n",
    "\n",
    "# Train the model\n",
    "trainer.fit(\n",
    "    tft, \n",
    "    train_dataloaders=train_dataloader, \n",
    "    val_dataloaders=val_dataloader,\n",
    ")\n",
    "\n",
    "# Save the trained model\n",
    "trainer.save_checkpoint(\"air_quality_tft_model.ckpt\")"
   ]
  },
  {
   "cell_type": "code",
   "execution_count": null,
   "metadata": {},
   "outputs": [],
   "source": []
  },
  {
   "cell_type": "code",
   "execution_count": 19,
   "metadata": {},
   "outputs": [
    {
     "data": {
      "text/plain": [
       "(np.int64(8712), 8761)"
      ]
     },
     "execution_count": 19,
     "metadata": {},
     "output_type": "execute_result"
    }
   ],
   "source": [
    "training_cutoff, air_quality_df[\"time_idx\"].nunique()\n"
   ]
  },
  {
   "cell_type": "code",
   "execution_count": 20,
   "metadata": {},
   "outputs": [
    {
     "name": "stderr",
     "output_type": "stream",
     "text": [
      "/tmp/ipykernel_1505/3576059663.py:1: DeprecationWarning: DataFrameGroupBy.apply operated on the grouping columns. This behavior is deprecated, and in a future version of pandas the grouping columns will be excluded from the operation. Either pass `include_groups=False` to exclude the groupings or explicitly select the grouping columns after groupby to silence this warning.\n",
      "  last_data = air_quality_df.groupby('station_loc').apply(lambda x: x.iloc[-max_encoder_length:]).reset_index(drop=True)\n"
     ]
    }
   ],
   "source": [
    "last_data = air_quality_df.groupby('station_loc').apply(lambda x: x.iloc[-max_encoder_length:]).reset_index(drop=True)\n"
   ]
  },
  {
   "cell_type": "code",
   "execution_count": 21,
   "metadata": {},
   "outputs": [
    {
     "data": {
      "text/plain": [
       "6216"
      ]
     },
     "execution_count": 21,
     "metadata": {},
     "output_type": "execute_result"
    }
   ],
   "source": [
    "last_data.time_idx.nunique() * 37"
   ]
  },
  {
   "cell_type": "code",
   "execution_count": 32,
   "metadata": {},
   "outputs": [
    {
     "data": {
      "text/html": [
       "<div>\n",
       "<style scoped>\n",
       "    .dataframe tbody tr th:only-of-type {\n",
       "        vertical-align: middle;\n",
       "    }\n",
       "\n",
       "    .dataframe tbody tr th {\n",
       "        vertical-align: top;\n",
       "    }\n",
       "\n",
       "    .dataframe thead th {\n",
       "        text-align: right;\n",
       "    }\n",
       "</style>\n",
       "<table border=\"1\" class=\"dataframe\">\n",
       "  <thead>\n",
       "    <tr style=\"text-align: right;\">\n",
       "      <th></th>\n",
       "      <th>datetime</th>\n",
       "      <th>time_idx</th>\n",
       "      <th>PM25</th>\n",
       "      <th>latitude</th>\n",
       "      <th>longitude</th>\n",
       "      <th>station_loc</th>\n",
       "      <th>group_id</th>\n",
       "      <th>hour</th>\n",
       "      <th>day_of_week</th>\n",
       "      <th>month</th>\n",
       "    </tr>\n",
       "  </thead>\n",
       "  <tbody>\n",
       "    <tr>\n",
       "      <th>0</th>\n",
       "      <td>2023-03-25 00:00:00</td>\n",
       "      <td>8593</td>\n",
       "      <td>63.00</td>\n",
       "      <td>28.797312</td>\n",
       "      <td>77.138667</td>\n",
       "      <td>Alipur</td>\n",
       "      <td>0</td>\n",
       "      <td>0</td>\n",
       "      <td>5</td>\n",
       "      <td>3</td>\n",
       "    </tr>\n",
       "    <tr>\n",
       "      <th>1</th>\n",
       "      <td>2023-03-25 01:00:00</td>\n",
       "      <td>8594</td>\n",
       "      <td>44.00</td>\n",
       "      <td>28.797312</td>\n",
       "      <td>77.138667</td>\n",
       "      <td>Alipur</td>\n",
       "      <td>0</td>\n",
       "      <td>1</td>\n",
       "      <td>5</td>\n",
       "      <td>3</td>\n",
       "    </tr>\n",
       "    <tr>\n",
       "      <th>2</th>\n",
       "      <td>2023-03-25 02:00:00</td>\n",
       "      <td>8595</td>\n",
       "      <td>33.00</td>\n",
       "      <td>28.797312</td>\n",
       "      <td>77.138667</td>\n",
       "      <td>Alipur</td>\n",
       "      <td>0</td>\n",
       "      <td>2</td>\n",
       "      <td>5</td>\n",
       "      <td>3</td>\n",
       "    </tr>\n",
       "    <tr>\n",
       "      <th>3</th>\n",
       "      <td>2023-03-25 03:00:00</td>\n",
       "      <td>8596</td>\n",
       "      <td>31.00</td>\n",
       "      <td>28.797312</td>\n",
       "      <td>77.138667</td>\n",
       "      <td>Alipur</td>\n",
       "      <td>0</td>\n",
       "      <td>3</td>\n",
       "      <td>5</td>\n",
       "      <td>3</td>\n",
       "    </tr>\n",
       "    <tr>\n",
       "      <th>4</th>\n",
       "      <td>2023-03-25 04:00:00</td>\n",
       "      <td>8597</td>\n",
       "      <td>22.00</td>\n",
       "      <td>28.797312</td>\n",
       "      <td>77.138667</td>\n",
       "      <td>Alipur</td>\n",
       "      <td>0</td>\n",
       "      <td>4</td>\n",
       "      <td>5</td>\n",
       "      <td>3</td>\n",
       "    </tr>\n",
       "    <tr>\n",
       "      <th>...</th>\n",
       "      <td>...</td>\n",
       "      <td>...</td>\n",
       "      <td>...</td>\n",
       "      <td>...</td>\n",
       "      <td>...</td>\n",
       "      <td>...</td>\n",
       "      <td>...</td>\n",
       "      <td>...</td>\n",
       "      <td>...</td>\n",
       "      <td>...</td>\n",
       "    </tr>\n",
       "    <tr>\n",
       "      <th>6211</th>\n",
       "      <td>2023-03-31 19:00:00</td>\n",
       "      <td>8756</td>\n",
       "      <td>26.25</td>\n",
       "      <td>28.680084</td>\n",
       "      <td>77.170221</td>\n",
       "      <td>Wazirpur</td>\n",
       "      <td>36</td>\n",
       "      <td>19</td>\n",
       "      <td>4</td>\n",
       "      <td>3</td>\n",
       "    </tr>\n",
       "    <tr>\n",
       "      <th>6212</th>\n",
       "      <td>2023-03-31 20:00:00</td>\n",
       "      <td>8757</td>\n",
       "      <td>27.50</td>\n",
       "      <td>28.680084</td>\n",
       "      <td>77.170221</td>\n",
       "      <td>Wazirpur</td>\n",
       "      <td>36</td>\n",
       "      <td>20</td>\n",
       "      <td>4</td>\n",
       "      <td>3</td>\n",
       "    </tr>\n",
       "    <tr>\n",
       "      <th>6213</th>\n",
       "      <td>2023-03-31 21:00:00</td>\n",
       "      <td>8758</td>\n",
       "      <td>38.50</td>\n",
       "      <td>28.680084</td>\n",
       "      <td>77.170221</td>\n",
       "      <td>Wazirpur</td>\n",
       "      <td>36</td>\n",
       "      <td>21</td>\n",
       "      <td>4</td>\n",
       "      <td>3</td>\n",
       "    </tr>\n",
       "    <tr>\n",
       "      <th>6214</th>\n",
       "      <td>2023-03-31 22:00:00</td>\n",
       "      <td>8759</td>\n",
       "      <td>36.25</td>\n",
       "      <td>28.680084</td>\n",
       "      <td>77.170221</td>\n",
       "      <td>Wazirpur</td>\n",
       "      <td>36</td>\n",
       "      <td>22</td>\n",
       "      <td>4</td>\n",
       "      <td>3</td>\n",
       "    </tr>\n",
       "    <tr>\n",
       "      <th>6215</th>\n",
       "      <td>2023-03-31 23:00:00</td>\n",
       "      <td>8760</td>\n",
       "      <td>25.75</td>\n",
       "      <td>28.680084</td>\n",
       "      <td>77.170221</td>\n",
       "      <td>Wazirpur</td>\n",
       "      <td>36</td>\n",
       "      <td>23</td>\n",
       "      <td>4</td>\n",
       "      <td>3</td>\n",
       "    </tr>\n",
       "  </tbody>\n",
       "</table>\n",
       "<p>6216 rows × 10 columns</p>\n",
       "</div>"
      ],
      "text/plain": [
       "                datetime  time_idx   PM25   latitude  longitude station_loc  \\\n",
       "0    2023-03-25 00:00:00      8593  63.00  28.797312  77.138667      Alipur   \n",
       "1    2023-03-25 01:00:00      8594  44.00  28.797312  77.138667      Alipur   \n",
       "2    2023-03-25 02:00:00      8595  33.00  28.797312  77.138667      Alipur   \n",
       "3    2023-03-25 03:00:00      8596  31.00  28.797312  77.138667      Alipur   \n",
       "4    2023-03-25 04:00:00      8597  22.00  28.797312  77.138667      Alipur   \n",
       "...                  ...       ...    ...        ...        ...         ...   \n",
       "6211 2023-03-31 19:00:00      8756  26.25  28.680084  77.170221    Wazirpur   \n",
       "6212 2023-03-31 20:00:00      8757  27.50  28.680084  77.170221    Wazirpur   \n",
       "6213 2023-03-31 21:00:00      8758  38.50  28.680084  77.170221    Wazirpur   \n",
       "6214 2023-03-31 22:00:00      8759  36.25  28.680084  77.170221    Wazirpur   \n",
       "6215 2023-03-31 23:00:00      8760  25.75  28.680084  77.170221    Wazirpur   \n",
       "\n",
       "      group_id hour day_of_week month  \n",
       "0            0    0           5     3  \n",
       "1            0    1           5     3  \n",
       "2            0    2           5     3  \n",
       "3            0    3           5     3  \n",
       "4            0    4           5     3  \n",
       "...        ...  ...         ...   ...  \n",
       "6211        36   19           4     3  \n",
       "6212        36   20           4     3  \n",
       "6213        36   21           4     3  \n",
       "6214        36   22           4     3  \n",
       "6215        36   23           4     3  \n",
       "\n",
       "[6216 rows x 10 columns]"
      ]
     },
     "execution_count": 32,
     "metadata": {},
     "output_type": "execute_result"
    }
   ],
   "source": [
    "last_data"
   ]
  },
  {
   "cell_type": "code",
   "execution_count": 33,
   "metadata": {},
   "outputs": [],
   "source": [
    "\n",
    "pred_dataset = TimeSeriesDataSet(\n",
    "    data=last_data,\n",
    "    time_idx=\"time_idx\",\n",
    "    target=\"PM25\",\n",
    "    group_ids=[\"station_loc\"],\n",
    "    min_encoder_length=max_encoder_length // 2,  # allow for some missing data\n",
    "    max_encoder_length=max_encoder_length,\n",
    "    min_prediction_length=1,\n",
    "    max_prediction_length=max_prediction_length,\n",
    "    static_categoricals=[\"station_loc\"],\n",
    "    static_reals=[\"latitude\", \"longitude\"],\n",
    "    time_varying_known_categoricals=[],\n",
    "    time_varying_known_reals=[\"time_idx\",\"hour\", \"day_of_week\", \"month\"], #\"time_idx\"\n",
    "    time_varying_unknown_categoricals=[],\n",
    "    time_varying_unknown_reals=[\"PM25\"],\n",
    "    target_normalizer=GroupNormalizer(\n",
    "        groups=[\"station_loc\"], transformation=\"log1p\"\n",
    "    ),\n",
    "    add_relative_time_idx=True,\n",
    "    add_target_scales=True,\n",
    "    add_encoder_length=True,\n",
    ")\n"
   ]
  },
  {
   "cell_type": "code",
   "execution_count": 34,
   "metadata": {},
   "outputs": [
    {
     "name": "stderr",
     "output_type": "stream",
     "text": [
      "You are using the plain ModelCheckpoint callback. Consider using LitModelCheckpoint which with seamless uploading to Model registry.\n",
      "GPU available: True (cuda), used: True\n",
      "TPU available: False, using: 0 TPU cores\n",
      "HPU available: False, using: 0 HPUs\n",
      "LOCAL_RANK: 0 - CUDA_VISIBLE_DEVICES: [0]\n",
      "/home/naradaw/miniconda3/envs/gnns/lib/python3.13/site-packages/lightning/pytorch/trainer/connectors/data_connector.py:425: The 'predict_dataloader' does not have many workers which may be a bottleneck. Consider increasing the value of the `num_workers` argument` to `num_workers=19` in the `DataLoader` to improve performance.\n"
     ]
    }
   ],
   "source": [
    "\n",
    "# Make predictions\n",
    "predictions = tft.predict(pred_dataset)\n"
   ]
  },
  {
   "cell_type": "code",
   "execution_count": 35,
   "metadata": {},
   "outputs": [
    {
     "data": {
      "text/plain": [
       "torch.Size([6179, 24])"
      ]
     },
     "execution_count": 35,
     "metadata": {},
     "output_type": "execute_result"
    }
   ],
   "source": [
    "predictions.shape"
   ]
  },
  {
   "cell_type": "code",
   "execution_count": 43,
   "metadata": {},
   "outputs": [
    {
     "name": "stdout",
     "output_type": "stream",
     "text": [
      "Predictions shape: torch.Size([6179, 24])\n",
      "Prediction samples for first 5 timestamps:\n",
      "Station Alipur: [24.984472 25.007977 25.178965 25.487686 25.921286]\n",
      "Station Anand Vihar: [24.984472 25.007977 25.178965 25.487686 25.921286]\n",
      "Station Ashok Vihar: [24.984472 25.007977 25.178965 25.487686 25.921286]\n",
      "Station Aya Nagar: [24.984472 25.007977 25.178965 25.487686 25.921286]\n",
      "Station Bawana: [24.984472 25.007977 25.178965 25.487686 25.921286]\n"
     ]
    }
   ],
   "source": [
    "# Check prediction variation across stations\n",
    "print(f\"Predictions shape: {predictions.shape}\")\n",
    "print(\"Prediction samples for first 5 timestamps:\")\n",
    "for i, station in enumerate(list(station_ids)[:5]):\n",
    "    station_idx = station_mapping[station]\n",
    "    print(f\"Station {station}: {predictions[station_idx][:5].detach().cpu().numpy()}\")"
   ]
  },
  {
   "cell_type": "code",
   "execution_count": 44,
   "metadata": {},
   "outputs": [
    {
     "name": "stdout",
     "output_type": "stream",
     "text": [
      "Station mapping:\n",
      "Station Alipur -> Index 0\n",
      "Station Anand Vihar -> Index 1\n",
      "Station Ashok Vihar -> Index 2\n",
      "Station Aya Nagar -> Index 3\n",
      "Station Bawana -> Index 4\n",
      "Station Burari Crossing -> Index 5\n",
      "Station CRRI Mathura Road -> Index 6\n",
      "Station Chandni Chowk -> Index 7\n",
      "Station DTU -> Index 8\n",
      "Station Dr. Karni Singh Shooting Range -> Index 9\n",
      "Station Dwarka Sector 8 -> Index 10\n",
      "Station East Arjun Nagar -> Index 11\n",
      "Station IGI Airport -> Index 12\n",
      "Station IHBAS -> Index 13\n",
      "Station ITO -> Index 14\n",
      "Station Jahangirpuri -> Index 15\n",
      "Station Jawaharlal Nehru Stadium -> Index 16\n",
      "Station Lodhi Road -> Index 17\n",
      "Station Major Dhyan Chand National Stadium -> Index 18\n",
      "Station Mandir Marg -> Index 19\n",
      "Station Mundka -> Index 20\n",
      "Station NSIT Dwarka -> Index 21\n",
      "Station Najafgarh -> Index 22\n",
      "Station Narela -> Index 23\n",
      "Station Nehru Nagar -> Index 24\n",
      "Station North Campus -> Index 25\n",
      "Station Okhla Phase 2 -> Index 26\n",
      "Station Patparganj -> Index 27\n",
      "Station Punjabi Bagh -> Index 28\n",
      "Station Pusa -> Index 29\n",
      "Station R K Puram -> Index 30\n",
      "Station Rohini -> Index 31\n",
      "Station Shadipur -> Index 32\n",
      "Station Sonia Vihar -> Index 33\n",
      "Station Sri Aurobindo Marg -> Index 34\n",
      "Station Vivek Vihar -> Index 35\n",
      "Station Wazirpur -> Index 36\n"
     ]
    }
   ],
   "source": [
    "# Print station mapping to verify it's correct\n",
    "print(\"Station mapping:\")\n",
    "for station, idx in station_mapping.items():\n",
    "    print(f\"Station {station} -> Index {idx}\")"
   ]
  },
  {
   "cell_type": "code",
   "execution_count": 45,
   "metadata": {},
   "outputs": [
    {
     "name": "stderr",
     "output_type": "stream",
     "text": [
      "You are using the plain ModelCheckpoint callback. Consider using LitModelCheckpoint which with seamless uploading to Model registry.\n",
      "GPU available: True (cuda), used: True\n",
      "TPU available: False, using: 0 TPU cores\n",
      "HPU available: False, using: 0 HPUs\n",
      "LOCAL_RANK: 0 - CUDA_VISIBLE_DEVICES: [0]\n",
      "/home/naradaw/miniconda3/envs/gnns/lib/python3.13/site-packages/lightning/pytorch/trainer/connectors/data_connector.py:425: The 'predict_dataloader' does not have many workers which may be a bottleneck. Consider increasing the value of the `num_workers` argument` to `num_workers=19` in the `DataLoader` to improve performance.\n",
      "You are using the plain ModelCheckpoint callback. Consider using LitModelCheckpoint which with seamless uploading to Model registry.\n",
      "GPU available: True (cuda), used: True\n",
      "TPU available: False, using: 0 TPU cores\n",
      "HPU available: False, using: 0 HPUs\n",
      "LOCAL_RANK: 0 - CUDA_VISIBLE_DEVICES: [0]\n"
     ]
    },
    {
     "name": "stdout",
     "output_type": "stream",
     "text": [
      "Station Alipur prediction mean: 25.7630\n"
     ]
    },
    {
     "name": "stderr",
     "output_type": "stream",
     "text": [
      "/home/naradaw/miniconda3/envs/gnns/lib/python3.13/site-packages/lightning/pytorch/trainer/connectors/data_connector.py:425: The 'predict_dataloader' does not have many workers which may be a bottleneck. Consider increasing the value of the `num_workers` argument` to `num_workers=19` in the `DataLoader` to improve performance.\n",
      "You are using the plain ModelCheckpoint callback. Consider using LitModelCheckpoint which with seamless uploading to Model registry.\n",
      "GPU available: True (cuda), used: True\n",
      "TPU available: False, using: 0 TPU cores\n",
      "HPU available: False, using: 0 HPUs\n",
      "LOCAL_RANK: 0 - CUDA_VISIBLE_DEVICES: [0]\n"
     ]
    },
    {
     "name": "stdout",
     "output_type": "stream",
     "text": [
      "Station Anand Vihar prediction mean: 38.6262\n"
     ]
    },
    {
     "name": "stderr",
     "output_type": "stream",
     "text": [
      "/home/naradaw/miniconda3/envs/gnns/lib/python3.13/site-packages/lightning/pytorch/trainer/connectors/data_connector.py:425: The 'predict_dataloader' does not have many workers which may be a bottleneck. Consider increasing the value of the `num_workers` argument` to `num_workers=19` in the `DataLoader` to improve performance.\n",
      "You are using the plain ModelCheckpoint callback. Consider using LitModelCheckpoint which with seamless uploading to Model registry.\n",
      "GPU available: True (cuda), used: True\n",
      "TPU available: False, using: 0 TPU cores\n",
      "HPU available: False, using: 0 HPUs\n",
      "LOCAL_RANK: 0 - CUDA_VISIBLE_DEVICES: [0]\n"
     ]
    },
    {
     "name": "stdout",
     "output_type": "stream",
     "text": [
      "Station Ashok Vihar prediction mean: 21.9389\n"
     ]
    },
    {
     "name": "stderr",
     "output_type": "stream",
     "text": [
      "/home/naradaw/miniconda3/envs/gnns/lib/python3.13/site-packages/lightning/pytorch/trainer/connectors/data_connector.py:425: The 'predict_dataloader' does not have many workers which may be a bottleneck. Consider increasing the value of the `num_workers` argument` to `num_workers=19` in the `DataLoader` to improve performance.\n",
      "You are using the plain ModelCheckpoint callback. Consider using LitModelCheckpoint which with seamless uploading to Model registry.\n",
      "GPU available: True (cuda), used: True\n",
      "TPU available: False, using: 0 TPU cores\n",
      "HPU available: False, using: 0 HPUs\n",
      "LOCAL_RANK: 0 - CUDA_VISIBLE_DEVICES: [0]\n"
     ]
    },
    {
     "name": "stdout",
     "output_type": "stream",
     "text": [
      "Station Aya Nagar prediction mean: 19.3584\n"
     ]
    },
    {
     "name": "stderr",
     "output_type": "stream",
     "text": [
      "/home/naradaw/miniconda3/envs/gnns/lib/python3.13/site-packages/lightning/pytorch/trainer/connectors/data_connector.py:425: The 'predict_dataloader' does not have many workers which may be a bottleneck. Consider increasing the value of the `num_workers` argument` to `num_workers=19` in the `DataLoader` to improve performance.\n",
      "You are using the plain ModelCheckpoint callback. Consider using LitModelCheckpoint which with seamless uploading to Model registry.\n",
      "GPU available: True (cuda), used: True\n",
      "TPU available: False, using: 0 TPU cores\n",
      "HPU available: False, using: 0 HPUs\n",
      "LOCAL_RANK: 0 - CUDA_VISIBLE_DEVICES: [0]\n"
     ]
    },
    {
     "name": "stdout",
     "output_type": "stream",
     "text": [
      "Station Bawana prediction mean: 30.8356\n"
     ]
    },
    {
     "name": "stderr",
     "output_type": "stream",
     "text": [
      "/home/naradaw/miniconda3/envs/gnns/lib/python3.13/site-packages/lightning/pytorch/trainer/connectors/data_connector.py:425: The 'predict_dataloader' does not have many workers which may be a bottleneck. Consider increasing the value of the `num_workers` argument` to `num_workers=19` in the `DataLoader` to improve performance.\n",
      "You are using the plain ModelCheckpoint callback. Consider using LitModelCheckpoint which with seamless uploading to Model registry.\n",
      "GPU available: True (cuda), used: True\n",
      "TPU available: False, using: 0 TPU cores\n",
      "HPU available: False, using: 0 HPUs\n",
      "LOCAL_RANK: 0 - CUDA_VISIBLE_DEVICES: [0]\n"
     ]
    },
    {
     "name": "stdout",
     "output_type": "stream",
     "text": [
      "Station Burari Crossing prediction mean: 24.0747\n"
     ]
    },
    {
     "name": "stderr",
     "output_type": "stream",
     "text": [
      "/home/naradaw/miniconda3/envs/gnns/lib/python3.13/site-packages/lightning/pytorch/trainer/connectors/data_connector.py:425: The 'predict_dataloader' does not have many workers which may be a bottleneck. Consider increasing the value of the `num_workers` argument` to `num_workers=19` in the `DataLoader` to improve performance.\n",
      "You are using the plain ModelCheckpoint callback. Consider using LitModelCheckpoint which with seamless uploading to Model registry.\n",
      "GPU available: True (cuda), used: True\n",
      "TPU available: False, using: 0 TPU cores\n",
      "HPU available: False, using: 0 HPUs\n",
      "LOCAL_RANK: 0 - CUDA_VISIBLE_DEVICES: [0]\n"
     ]
    },
    {
     "name": "stdout",
     "output_type": "stream",
     "text": [
      "Station CRRI Mathura Road prediction mean: 19.3829\n"
     ]
    },
    {
     "name": "stderr",
     "output_type": "stream",
     "text": [
      "/home/naradaw/miniconda3/envs/gnns/lib/python3.13/site-packages/lightning/pytorch/trainer/connectors/data_connector.py:425: The 'predict_dataloader' does not have many workers which may be a bottleneck. Consider increasing the value of the `num_workers` argument` to `num_workers=19` in the `DataLoader` to improve performance.\n",
      "You are using the plain ModelCheckpoint callback. Consider using LitModelCheckpoint which with seamless uploading to Model registry.\n",
      "GPU available: True (cuda), used: True\n",
      "TPU available: False, using: 0 TPU cores\n",
      "HPU available: False, using: 0 HPUs\n",
      "LOCAL_RANK: 0 - CUDA_VISIBLE_DEVICES: [0]\n"
     ]
    },
    {
     "name": "stdout",
     "output_type": "stream",
     "text": [
      "Station Chandni Chowk prediction mean: 30.1853\n"
     ]
    },
    {
     "name": "stderr",
     "output_type": "stream",
     "text": [
      "/home/naradaw/miniconda3/envs/gnns/lib/python3.13/site-packages/lightning/pytorch/trainer/connectors/data_connector.py:425: The 'predict_dataloader' does not have many workers which may be a bottleneck. Consider increasing the value of the `num_workers` argument` to `num_workers=19` in the `DataLoader` to improve performance.\n",
      "You are using the plain ModelCheckpoint callback. Consider using LitModelCheckpoint which with seamless uploading to Model registry.\n",
      "GPU available: True (cuda), used: True\n",
      "TPU available: False, using: 0 TPU cores\n",
      "HPU available: False, using: 0 HPUs\n",
      "LOCAL_RANK: 0 - CUDA_VISIBLE_DEVICES: [0]\n"
     ]
    },
    {
     "name": "stdout",
     "output_type": "stream",
     "text": [
      "Station DTU prediction mean: 28.3143\n"
     ]
    },
    {
     "name": "stderr",
     "output_type": "stream",
     "text": [
      "/home/naradaw/miniconda3/envs/gnns/lib/python3.13/site-packages/lightning/pytorch/trainer/connectors/data_connector.py:425: The 'predict_dataloader' does not have many workers which may be a bottleneck. Consider increasing the value of the `num_workers` argument` to `num_workers=19` in the `DataLoader` to improve performance.\n",
      "You are using the plain ModelCheckpoint callback. Consider using LitModelCheckpoint which with seamless uploading to Model registry.\n",
      "GPU available: True (cuda), used: True\n",
      "TPU available: False, using: 0 TPU cores\n",
      "HPU available: False, using: 0 HPUs\n",
      "LOCAL_RANK: 0 - CUDA_VISIBLE_DEVICES: [0]\n"
     ]
    },
    {
     "name": "stdout",
     "output_type": "stream",
     "text": [
      "Station Dr. Karni Singh Shooting Range prediction mean: 26.5865\n"
     ]
    },
    {
     "name": "stderr",
     "output_type": "stream",
     "text": [
      "/home/naradaw/miniconda3/envs/gnns/lib/python3.13/site-packages/lightning/pytorch/trainer/connectors/data_connector.py:425: The 'predict_dataloader' does not have many workers which may be a bottleneck. Consider increasing the value of the `num_workers` argument` to `num_workers=19` in the `DataLoader` to improve performance.\n",
      "You are using the plain ModelCheckpoint callback. Consider using LitModelCheckpoint which with seamless uploading to Model registry.\n",
      "GPU available: True (cuda), used: True\n",
      "TPU available: False, using: 0 TPU cores\n",
      "HPU available: False, using: 0 HPUs\n",
      "LOCAL_RANK: 0 - CUDA_VISIBLE_DEVICES: [0]\n"
     ]
    },
    {
     "name": "stdout",
     "output_type": "stream",
     "text": [
      "Station Dwarka Sector 8 prediction mean: 27.8226\n"
     ]
    },
    {
     "name": "stderr",
     "output_type": "stream",
     "text": [
      "/home/naradaw/miniconda3/envs/gnns/lib/python3.13/site-packages/lightning/pytorch/trainer/connectors/data_connector.py:425: The 'predict_dataloader' does not have many workers which may be a bottleneck. Consider increasing the value of the `num_workers` argument` to `num_workers=19` in the `DataLoader` to improve performance.\n",
      "You are using the plain ModelCheckpoint callback. Consider using LitModelCheckpoint which with seamless uploading to Model registry.\n",
      "GPU available: True (cuda), used: True\n",
      "TPU available: False, using: 0 TPU cores\n",
      "HPU available: False, using: 0 HPUs\n",
      "LOCAL_RANK: 0 - CUDA_VISIBLE_DEVICES: [0]\n"
     ]
    },
    {
     "name": "stdout",
     "output_type": "stream",
     "text": [
      "Station East Arjun Nagar prediction mean: 27.9763\n"
     ]
    },
    {
     "name": "stderr",
     "output_type": "stream",
     "text": [
      "/home/naradaw/miniconda3/envs/gnns/lib/python3.13/site-packages/lightning/pytorch/trainer/connectors/data_connector.py:425: The 'predict_dataloader' does not have many workers which may be a bottleneck. Consider increasing the value of the `num_workers` argument` to `num_workers=19` in the `DataLoader` to improve performance.\n",
      "You are using the plain ModelCheckpoint callback. Consider using LitModelCheckpoint which with seamless uploading to Model registry.\n",
      "GPU available: True (cuda), used: True\n",
      "TPU available: False, using: 0 TPU cores\n",
      "HPU available: False, using: 0 HPUs\n",
      "LOCAL_RANK: 0 - CUDA_VISIBLE_DEVICES: [0]\n"
     ]
    },
    {
     "name": "stdout",
     "output_type": "stream",
     "text": [
      "Station IGI Airport prediction mean: 26.3854\n"
     ]
    },
    {
     "name": "stderr",
     "output_type": "stream",
     "text": [
      "/home/naradaw/miniconda3/envs/gnns/lib/python3.13/site-packages/lightning/pytorch/trainer/connectors/data_connector.py:425: The 'predict_dataloader' does not have many workers which may be a bottleneck. Consider increasing the value of the `num_workers` argument` to `num_workers=19` in the `DataLoader` to improve performance.\n",
      "You are using the plain ModelCheckpoint callback. Consider using LitModelCheckpoint which with seamless uploading to Model registry.\n",
      "GPU available: True (cuda), used: True\n",
      "TPU available: False, using: 0 TPU cores\n",
      "HPU available: False, using: 0 HPUs\n",
      "LOCAL_RANK: 0 - CUDA_VISIBLE_DEVICES: [0]\n"
     ]
    },
    {
     "name": "stdout",
     "output_type": "stream",
     "text": [
      "Station IHBAS prediction mean: 28.6942\n"
     ]
    },
    {
     "name": "stderr",
     "output_type": "stream",
     "text": [
      "/home/naradaw/miniconda3/envs/gnns/lib/python3.13/site-packages/lightning/pytorch/trainer/connectors/data_connector.py:425: The 'predict_dataloader' does not have many workers which may be a bottleneck. Consider increasing the value of the `num_workers` argument` to `num_workers=19` in the `DataLoader` to improve performance.\n",
      "You are using the plain ModelCheckpoint callback. Consider using LitModelCheckpoint which with seamless uploading to Model registry.\n",
      "GPU available: True (cuda), used: True\n",
      "TPU available: False, using: 0 TPU cores\n",
      "HPU available: False, using: 0 HPUs\n",
      "LOCAL_RANK: 0 - CUDA_VISIBLE_DEVICES: [0]\n"
     ]
    },
    {
     "name": "stdout",
     "output_type": "stream",
     "text": [
      "Station ITO prediction mean: 29.2822\n"
     ]
    },
    {
     "name": "stderr",
     "output_type": "stream",
     "text": [
      "/home/naradaw/miniconda3/envs/gnns/lib/python3.13/site-packages/lightning/pytorch/trainer/connectors/data_connector.py:425: The 'predict_dataloader' does not have many workers which may be a bottleneck. Consider increasing the value of the `num_workers` argument` to `num_workers=19` in the `DataLoader` to improve performance.\n",
      "You are using the plain ModelCheckpoint callback. Consider using LitModelCheckpoint which with seamless uploading to Model registry.\n",
      "GPU available: True (cuda), used: True\n",
      "TPU available: False, using: 0 TPU cores\n",
      "HPU available: False, using: 0 HPUs\n",
      "LOCAL_RANK: 0 - CUDA_VISIBLE_DEVICES: [0]\n"
     ]
    },
    {
     "name": "stdout",
     "output_type": "stream",
     "text": [
      "Station Jahangirpuri prediction mean: 32.0560\n"
     ]
    },
    {
     "name": "stderr",
     "output_type": "stream",
     "text": [
      "/home/naradaw/miniconda3/envs/gnns/lib/python3.13/site-packages/lightning/pytorch/trainer/connectors/data_connector.py:425: The 'predict_dataloader' does not have many workers which may be a bottleneck. Consider increasing the value of the `num_workers` argument` to `num_workers=19` in the `DataLoader` to improve performance.\n",
      "You are using the plain ModelCheckpoint callback. Consider using LitModelCheckpoint which with seamless uploading to Model registry.\n",
      "GPU available: True (cuda), used: True\n",
      "TPU available: False, using: 0 TPU cores\n",
      "HPU available: False, using: 0 HPUs\n",
      "LOCAL_RANK: 0 - CUDA_VISIBLE_DEVICES: [0]\n"
     ]
    },
    {
     "name": "stdout",
     "output_type": "stream",
     "text": [
      "Station Jawaharlal Nehru Stadium prediction mean: 24.4023\n"
     ]
    },
    {
     "name": "stderr",
     "output_type": "stream",
     "text": [
      "/home/naradaw/miniconda3/envs/gnns/lib/python3.13/site-packages/lightning/pytorch/trainer/connectors/data_connector.py:425: The 'predict_dataloader' does not have many workers which may be a bottleneck. Consider increasing the value of the `num_workers` argument` to `num_workers=19` in the `DataLoader` to improve performance.\n",
      "You are using the plain ModelCheckpoint callback. Consider using LitModelCheckpoint which with seamless uploading to Model registry.\n",
      "GPU available: True (cuda), used: True\n",
      "TPU available: False, using: 0 TPU cores\n",
      "HPU available: False, using: 0 HPUs\n",
      "LOCAL_RANK: 0 - CUDA_VISIBLE_DEVICES: [0]\n"
     ]
    },
    {
     "name": "stdout",
     "output_type": "stream",
     "text": [
      "Station Lodhi Road prediction mean: 21.4182\n"
     ]
    },
    {
     "name": "stderr",
     "output_type": "stream",
     "text": [
      "/home/naradaw/miniconda3/envs/gnns/lib/python3.13/site-packages/lightning/pytorch/trainer/connectors/data_connector.py:425: The 'predict_dataloader' does not have many workers which may be a bottleneck. Consider increasing the value of the `num_workers` argument` to `num_workers=19` in the `DataLoader` to improve performance.\n",
      "You are using the plain ModelCheckpoint callback. Consider using LitModelCheckpoint which with seamless uploading to Model registry.\n",
      "GPU available: True (cuda), used: True\n",
      "TPU available: False, using: 0 TPU cores\n",
      "HPU available: False, using: 0 HPUs\n",
      "LOCAL_RANK: 0 - CUDA_VISIBLE_DEVICES: [0]\n"
     ]
    },
    {
     "name": "stdout",
     "output_type": "stream",
     "text": [
      "Station Major Dhyan Chand National Stadium prediction mean: 28.4186\n"
     ]
    },
    {
     "name": "stderr",
     "output_type": "stream",
     "text": [
      "/home/naradaw/miniconda3/envs/gnns/lib/python3.13/site-packages/lightning/pytorch/trainer/connectors/data_connector.py:425: The 'predict_dataloader' does not have many workers which may be a bottleneck. Consider increasing the value of the `num_workers` argument` to `num_workers=19` in the `DataLoader` to improve performance.\n",
      "You are using the plain ModelCheckpoint callback. Consider using LitModelCheckpoint which with seamless uploading to Model registry.\n",
      "GPU available: True (cuda), used: True\n",
      "TPU available: False, using: 0 TPU cores\n",
      "HPU available: False, using: 0 HPUs\n",
      "LOCAL_RANK: 0 - CUDA_VISIBLE_DEVICES: [0]\n"
     ]
    },
    {
     "name": "stdout",
     "output_type": "stream",
     "text": [
      "Station Mandir Marg prediction mean: 26.5525\n"
     ]
    },
    {
     "name": "stderr",
     "output_type": "stream",
     "text": [
      "/home/naradaw/miniconda3/envs/gnns/lib/python3.13/site-packages/lightning/pytorch/trainer/connectors/data_connector.py:425: The 'predict_dataloader' does not have many workers which may be a bottleneck. Consider increasing the value of the `num_workers` argument` to `num_workers=19` in the `DataLoader` to improve performance.\n",
      "You are using the plain ModelCheckpoint callback. Consider using LitModelCheckpoint which with seamless uploading to Model registry.\n",
      "GPU available: True (cuda), used: True\n",
      "TPU available: False, using: 0 TPU cores\n",
      "HPU available: False, using: 0 HPUs\n",
      "LOCAL_RANK: 0 - CUDA_VISIBLE_DEVICES: [0]\n"
     ]
    },
    {
     "name": "stdout",
     "output_type": "stream",
     "text": [
      "Station Mundka prediction mean: 28.7108\n"
     ]
    },
    {
     "name": "stderr",
     "output_type": "stream",
     "text": [
      "/home/naradaw/miniconda3/envs/gnns/lib/python3.13/site-packages/lightning/pytorch/trainer/connectors/data_connector.py:425: The 'predict_dataloader' does not have many workers which may be a bottleneck. Consider increasing the value of the `num_workers` argument` to `num_workers=19` in the `DataLoader` to improve performance.\n",
      "You are using the plain ModelCheckpoint callback. Consider using LitModelCheckpoint which with seamless uploading to Model registry.\n",
      "GPU available: True (cuda), used: True\n",
      "TPU available: False, using: 0 TPU cores\n",
      "HPU available: False, using: 0 HPUs\n",
      "LOCAL_RANK: 0 - CUDA_VISIBLE_DEVICES: [0]\n"
     ]
    },
    {
     "name": "stdout",
     "output_type": "stream",
     "text": [
      "Station NSIT Dwarka prediction mean: 25.5814\n"
     ]
    },
    {
     "name": "stderr",
     "output_type": "stream",
     "text": [
      "/home/naradaw/miniconda3/envs/gnns/lib/python3.13/site-packages/lightning/pytorch/trainer/connectors/data_connector.py:425: The 'predict_dataloader' does not have many workers which may be a bottleneck. Consider increasing the value of the `num_workers` argument` to `num_workers=19` in the `DataLoader` to improve performance.\n",
      "You are using the plain ModelCheckpoint callback. Consider using LitModelCheckpoint which with seamless uploading to Model registry.\n",
      "GPU available: True (cuda), used: True\n",
      "TPU available: False, using: 0 TPU cores\n",
      "HPU available: False, using: 0 HPUs\n",
      "LOCAL_RANK: 0 - CUDA_VISIBLE_DEVICES: [0]\n"
     ]
    },
    {
     "name": "stdout",
     "output_type": "stream",
     "text": [
      "Station Najafgarh prediction mean: 19.0731\n"
     ]
    },
    {
     "name": "stderr",
     "output_type": "stream",
     "text": [
      "/home/naradaw/miniconda3/envs/gnns/lib/python3.13/site-packages/lightning/pytorch/trainer/connectors/data_connector.py:425: The 'predict_dataloader' does not have many workers which may be a bottleneck. Consider increasing the value of the `num_workers` argument` to `num_workers=19` in the `DataLoader` to improve performance.\n",
      "You are using the plain ModelCheckpoint callback. Consider using LitModelCheckpoint which with seamless uploading to Model registry.\n",
      "GPU available: True (cuda), used: True\n",
      "TPU available: False, using: 0 TPU cores\n",
      "HPU available: False, using: 0 HPUs\n",
      "LOCAL_RANK: 0 - CUDA_VISIBLE_DEVICES: [0]\n"
     ]
    },
    {
     "name": "stdout",
     "output_type": "stream",
     "text": [
      "Station Narela prediction mean: 29.4543\n"
     ]
    },
    {
     "name": "stderr",
     "output_type": "stream",
     "text": [
      "/home/naradaw/miniconda3/envs/gnns/lib/python3.13/site-packages/lightning/pytorch/trainer/connectors/data_connector.py:425: The 'predict_dataloader' does not have many workers which may be a bottleneck. Consider increasing the value of the `num_workers` argument` to `num_workers=19` in the `DataLoader` to improve performance.\n",
      "You are using the plain ModelCheckpoint callback. Consider using LitModelCheckpoint which with seamless uploading to Model registry.\n",
      "GPU available: True (cuda), used: True\n",
      "TPU available: False, using: 0 TPU cores\n",
      "HPU available: False, using: 0 HPUs\n",
      "LOCAL_RANK: 0 - CUDA_VISIBLE_DEVICES: [0]\n"
     ]
    },
    {
     "name": "stdout",
     "output_type": "stream",
     "text": [
      "Station Nehru Nagar prediction mean: 30.9204\n"
     ]
    },
    {
     "name": "stderr",
     "output_type": "stream",
     "text": [
      "/home/naradaw/miniconda3/envs/gnns/lib/python3.13/site-packages/lightning/pytorch/trainer/connectors/data_connector.py:425: The 'predict_dataloader' does not have many workers which may be a bottleneck. Consider increasing the value of the `num_workers` argument` to `num_workers=19` in the `DataLoader` to improve performance.\n",
      "You are using the plain ModelCheckpoint callback. Consider using LitModelCheckpoint which with seamless uploading to Model registry.\n",
      "GPU available: True (cuda), used: True\n",
      "TPU available: False, using: 0 TPU cores\n",
      "HPU available: False, using: 0 HPUs\n",
      "LOCAL_RANK: 0 - CUDA_VISIBLE_DEVICES: [0]\n"
     ]
    },
    {
     "name": "stdout",
     "output_type": "stream",
     "text": [
      "Station North Campus prediction mean: 16.1365\n"
     ]
    },
    {
     "name": "stderr",
     "output_type": "stream",
     "text": [
      "/home/naradaw/miniconda3/envs/gnns/lib/python3.13/site-packages/lightning/pytorch/trainer/connectors/data_connector.py:425: The 'predict_dataloader' does not have many workers which may be a bottleneck. Consider increasing the value of the `num_workers` argument` to `num_workers=19` in the `DataLoader` to improve performance.\n",
      "You are using the plain ModelCheckpoint callback. Consider using LitModelCheckpoint which with seamless uploading to Model registry.\n",
      "GPU available: True (cuda), used: True\n",
      "TPU available: False, using: 0 TPU cores\n",
      "HPU available: False, using: 0 HPUs\n",
      "LOCAL_RANK: 0 - CUDA_VISIBLE_DEVICES: [0]\n"
     ]
    },
    {
     "name": "stdout",
     "output_type": "stream",
     "text": [
      "Station Okhla Phase 2 prediction mean: 26.0362\n"
     ]
    },
    {
     "name": "stderr",
     "output_type": "stream",
     "text": [
      "/home/naradaw/miniconda3/envs/gnns/lib/python3.13/site-packages/lightning/pytorch/trainer/connectors/data_connector.py:425: The 'predict_dataloader' does not have many workers which may be a bottleneck. Consider increasing the value of the `num_workers` argument` to `num_workers=19` in the `DataLoader` to improve performance.\n",
      "You are using the plain ModelCheckpoint callback. Consider using LitModelCheckpoint which with seamless uploading to Model registry.\n",
      "GPU available: True (cuda), used: True\n",
      "TPU available: False, using: 0 TPU cores\n",
      "HPU available: False, using: 0 HPUs\n",
      "LOCAL_RANK: 0 - CUDA_VISIBLE_DEVICES: [0]\n"
     ]
    },
    {
     "name": "stdout",
     "output_type": "stream",
     "text": [
      "Station Patparganj prediction mean: 29.5695\n"
     ]
    },
    {
     "name": "stderr",
     "output_type": "stream",
     "text": [
      "/home/naradaw/miniconda3/envs/gnns/lib/python3.13/site-packages/lightning/pytorch/trainer/connectors/data_connector.py:425: The 'predict_dataloader' does not have many workers which may be a bottleneck. Consider increasing the value of the `num_workers` argument` to `num_workers=19` in the `DataLoader` to improve performance.\n",
      "You are using the plain ModelCheckpoint callback. Consider using LitModelCheckpoint which with seamless uploading to Model registry.\n",
      "GPU available: True (cuda), used: True\n",
      "TPU available: False, using: 0 TPU cores\n",
      "HPU available: False, using: 0 HPUs\n",
      "LOCAL_RANK: 0 - CUDA_VISIBLE_DEVICES: [0]\n"
     ]
    },
    {
     "name": "stdout",
     "output_type": "stream",
     "text": [
      "Station Punjabi Bagh prediction mean: 30.1490\n"
     ]
    },
    {
     "name": "stderr",
     "output_type": "stream",
     "text": [
      "/home/naradaw/miniconda3/envs/gnns/lib/python3.13/site-packages/lightning/pytorch/trainer/connectors/data_connector.py:425: The 'predict_dataloader' does not have many workers which may be a bottleneck. Consider increasing the value of the `num_workers` argument` to `num_workers=19` in the `DataLoader` to improve performance.\n",
      "You are using the plain ModelCheckpoint callback. Consider using LitModelCheckpoint which with seamless uploading to Model registry.\n",
      "GPU available: True (cuda), used: True\n",
      "TPU available: False, using: 0 TPU cores\n",
      "HPU available: False, using: 0 HPUs\n",
      "LOCAL_RANK: 0 - CUDA_VISIBLE_DEVICES: [0]\n"
     ]
    },
    {
     "name": "stdout",
     "output_type": "stream",
     "text": [
      "Station Pusa prediction mean: 27.1588\n"
     ]
    },
    {
     "name": "stderr",
     "output_type": "stream",
     "text": [
      "/home/naradaw/miniconda3/envs/gnns/lib/python3.13/site-packages/lightning/pytorch/trainer/connectors/data_connector.py:425: The 'predict_dataloader' does not have many workers which may be a bottleneck. Consider increasing the value of the `num_workers` argument` to `num_workers=19` in the `DataLoader` to improve performance.\n",
      "You are using the plain ModelCheckpoint callback. Consider using LitModelCheckpoint which with seamless uploading to Model registry.\n",
      "GPU available: True (cuda), used: True\n",
      "TPU available: False, using: 0 TPU cores\n",
      "HPU available: False, using: 0 HPUs\n",
      "LOCAL_RANK: 0 - CUDA_VISIBLE_DEVICES: [0]\n"
     ]
    },
    {
     "name": "stdout",
     "output_type": "stream",
     "text": [
      "Station R K Puram prediction mean: 26.5606\n"
     ]
    },
    {
     "name": "stderr",
     "output_type": "stream",
     "text": [
      "/home/naradaw/miniconda3/envs/gnns/lib/python3.13/site-packages/lightning/pytorch/trainer/connectors/data_connector.py:425: The 'predict_dataloader' does not have many workers which may be a bottleneck. Consider increasing the value of the `num_workers` argument` to `num_workers=19` in the `DataLoader` to improve performance.\n",
      "You are using the plain ModelCheckpoint callback. Consider using LitModelCheckpoint which with seamless uploading to Model registry.\n",
      "GPU available: True (cuda), used: True\n",
      "TPU available: False, using: 0 TPU cores\n",
      "HPU available: False, using: 0 HPUs\n",
      "LOCAL_RANK: 0 - CUDA_VISIBLE_DEVICES: [0]\n"
     ]
    },
    {
     "name": "stdout",
     "output_type": "stream",
     "text": [
      "Station Rohini prediction mean: 31.6524\n"
     ]
    },
    {
     "name": "stderr",
     "output_type": "stream",
     "text": [
      "/home/naradaw/miniconda3/envs/gnns/lib/python3.13/site-packages/lightning/pytorch/trainer/connectors/data_connector.py:425: The 'predict_dataloader' does not have many workers which may be a bottleneck. Consider increasing the value of the `num_workers` argument` to `num_workers=19` in the `DataLoader` to improve performance.\n",
      "You are using the plain ModelCheckpoint callback. Consider using LitModelCheckpoint which with seamless uploading to Model registry.\n",
      "GPU available: True (cuda), used: True\n",
      "TPU available: False, using: 0 TPU cores\n",
      "HPU available: False, using: 0 HPUs\n",
      "LOCAL_RANK: 0 - CUDA_VISIBLE_DEVICES: [0]\n"
     ]
    },
    {
     "name": "stdout",
     "output_type": "stream",
     "text": [
      "Station Shadipur prediction mean: 60.3552\n"
     ]
    },
    {
     "name": "stderr",
     "output_type": "stream",
     "text": [
      "/home/naradaw/miniconda3/envs/gnns/lib/python3.13/site-packages/lightning/pytorch/trainer/connectors/data_connector.py:425: The 'predict_dataloader' does not have many workers which may be a bottleneck. Consider increasing the value of the `num_workers` argument` to `num_workers=19` in the `DataLoader` to improve performance.\n",
      "You are using the plain ModelCheckpoint callback. Consider using LitModelCheckpoint which with seamless uploading to Model registry.\n",
      "GPU available: True (cuda), used: True\n",
      "TPU available: False, using: 0 TPU cores\n",
      "HPU available: False, using: 0 HPUs\n",
      "LOCAL_RANK: 0 - CUDA_VISIBLE_DEVICES: [0]\n"
     ]
    },
    {
     "name": "stdout",
     "output_type": "stream",
     "text": [
      "Station Sonia Vihar prediction mean: 30.9660\n"
     ]
    },
    {
     "name": "stderr",
     "output_type": "stream",
     "text": [
      "/home/naradaw/miniconda3/envs/gnns/lib/python3.13/site-packages/lightning/pytorch/trainer/connectors/data_connector.py:425: The 'predict_dataloader' does not have many workers which may be a bottleneck. Consider increasing the value of the `num_workers` argument` to `num_workers=19` in the `DataLoader` to improve performance.\n",
      "You are using the plain ModelCheckpoint callback. Consider using LitModelCheckpoint which with seamless uploading to Model registry.\n",
      "GPU available: True (cuda), used: True\n",
      "TPU available: False, using: 0 TPU cores\n",
      "HPU available: False, using: 0 HPUs\n",
      "LOCAL_RANK: 0 - CUDA_VISIBLE_DEVICES: [0]\n"
     ]
    },
    {
     "name": "stdout",
     "output_type": "stream",
     "text": [
      "Station Sri Aurobindo Marg prediction mean: 24.3410\n"
     ]
    },
    {
     "name": "stderr",
     "output_type": "stream",
     "text": [
      "/home/naradaw/miniconda3/envs/gnns/lib/python3.13/site-packages/lightning/pytorch/trainer/connectors/data_connector.py:425: The 'predict_dataloader' does not have many workers which may be a bottleneck. Consider increasing the value of the `num_workers` argument` to `num_workers=19` in the `DataLoader` to improve performance.\n",
      "You are using the plain ModelCheckpoint callback. Consider using LitModelCheckpoint which with seamless uploading to Model registry.\n",
      "GPU available: True (cuda), used: True\n",
      "TPU available: False, using: 0 TPU cores\n",
      "HPU available: False, using: 0 HPUs\n",
      "LOCAL_RANK: 0 - CUDA_VISIBLE_DEVICES: [0]\n"
     ]
    },
    {
     "name": "stdout",
     "output_type": "stream",
     "text": [
      "Station Vivek Vihar prediction mean: 32.9103\n"
     ]
    },
    {
     "name": "stderr",
     "output_type": "stream",
     "text": [
      "/home/naradaw/miniconda3/envs/gnns/lib/python3.13/site-packages/lightning/pytorch/trainer/connectors/data_connector.py:425: The 'predict_dataloader' does not have many workers which may be a bottleneck. Consider increasing the value of the `num_workers` argument` to `num_workers=19` in the `DataLoader` to improve performance.\n"
     ]
    },
    {
     "name": "stdout",
     "output_type": "stream",
     "text": [
      "Station Wazirpur prediction mean: 32.3688\n"
     ]
    }
   ],
   "source": [
    "# Create separate prediction datasets for each station\n",
    "all_predictions = []\n",
    "station_preds_dict = {}\n",
    "\n",
    "for station in station_ids:\n",
    "    # Filter last data for just this station\n",
    "    station_last_data = last_data[last_data['station_loc'] == station].reset_index(drop=True)\n",
    "    \n",
    "    # Create a station-specific prediction dataset\n",
    "    station_pred_dataset = TimeSeriesDataSet(\n",
    "        data=station_last_data,\n",
    "        time_idx=\"time_idx\",\n",
    "        target=\"PM25\",\n",
    "        group_ids=[\"station_loc\"],\n",
    "        min_encoder_length=max_encoder_length // 2,\n",
    "        max_encoder_length=max_encoder_length,\n",
    "        min_prediction_length=1,\n",
    "        max_prediction_length=max_prediction_length,\n",
    "        static_categoricals=[\"station_loc\"],\n",
    "        static_reals=[\"latitude\", \"longitude\"],\n",
    "        time_varying_known_categoricals=[],\n",
    "        time_varying_known_reals=[\"time_idx\", \"hour\", \"day_of_week\", \"month\"],\n",
    "        time_varying_unknown_categoricals=[],\n",
    "        time_varying_unknown_reals=[\"PM25\"],\n",
    "        target_normalizer=GroupNormalizer(\n",
    "            groups=[\"station_loc\"], transformation=\"log1p\"\n",
    "        ),\n",
    "        add_relative_time_idx=True,\n",
    "        add_target_scales=True,\n",
    "        add_encoder_length=True,\n",
    "    )\n",
    "    \n",
    "    # Create dataloader\n",
    "    pred_dataloader = station_pred_dataset.to_dataloader(batch_size=1, train=False, shuffle=False)\n",
    "    \n",
    "    # Generate prediction for this station\n",
    "    station_prediction = tft.predict(pred_dataloader)\n",
    "    station_preds_dict[station] = station_prediction[0].detach().cpu().numpy()\n",
    "    print(f\"Station {station} prediction mean: {station_prediction[0].mean().item():.4f}\")"
   ]
  },
  {
   "cell_type": "code",
   "execution_count": 49,
   "metadata": {},
   "outputs": [
    {
     "name": "stdout",
     "output_type": "stream",
     "text": [
      "\n",
      "Prediction statistics:\n",
      "Station Alipur: Min=22.96, Max=28.34, Mean=25.76, Std=1.64\n",
      "Station Anand Vihar: Min=34.68, Max=42.24, Mean=38.63, Std=2.31\n",
      "Station Ashok Vihar: Min=19.51, Max=24.17, Mean=21.94, Std=1.42\n",
      "Station Aya Nagar: Min=17.14, Max=21.40, Mean=19.36, Std=1.30\n",
      "Station Bawana: Min=27.59, Max=33.81, Mean=30.84, Std=1.90\n",
      "Station Burari Crossing: Min=21.40, Max=26.53, Mean=24.07, Std=1.57\n",
      "Station CRRI Mathura Road: Min=16.81, Max=21.78, Mean=19.38, Std=1.52\n",
      "Station Chandni Chowk: Min=28.03, Max=32.12, Mean=30.19, Std=1.25\n",
      "Station DTU: Min=26.66, Max=29.79, Mean=28.31, Std=0.95\n",
      "Station Dr. Karni Singh Shooting Range: Min=24.09, Max=28.86, Mean=26.59, Std=1.45\n",
      "Station Dwarka Sector 8: Min=24.94, Max=30.46, Mean=27.82, Std=1.68\n",
      "Station East Arjun Nagar: Min=27.97, Max=27.98, Mean=27.98, Std=0.00\n",
      "Station IGI Airport: Min=23.89, Max=28.66, Mean=26.39, Std=1.46\n",
      "Station IHBAS: Min=26.23, Max=30.93, Mean=28.69, Std=1.43\n",
      "Station ITO: Min=26.69, Max=31.64, Mean=29.28, Std=1.51\n",
      "Station Jahangirpuri: Min=28.56, Max=35.27, Mean=32.06, Std=2.05\n",
      "Station Jawaharlal Nehru Stadium: Min=22.08, Max=26.51, Mean=24.40, Std=1.35\n",
      "Station Lodhi Road: Min=19.36, Max=23.30, Mean=21.42, Std=1.20\n",
      "Station Major Dhyan Chand National Stadium: Min=25.87, Max=30.73, Mean=28.42, Std=1.48\n",
      "Station Mandir Marg: Min=24.01, Max=28.87, Mean=26.55, Std=1.48\n",
      "Station Mundka: Min=25.33, Max=31.83, Mean=28.71, Std=1.98\n",
      "Station NSIT Dwarka: Min=22.03, Max=28.91, Mean=25.58, Std=2.10\n",
      "Station Najafgarh: Min=16.63, Max=21.34, Mean=19.07, Std=1.44\n",
      "Station Narela: Min=26.21, Max=32.43, Mean=29.45, Std=1.90\n",
      "Station Nehru Nagar: Min=27.67, Max=33.89, Mean=30.92, Std=1.90\n",
      "Station North Campus: Min=13.64, Max=18.50, Mean=16.14, Std=1.48\n",
      "Station Okhla Phase 2: Min=23.39, Max=28.46, Mean=26.04, Std=1.55\n",
      "Station Patparganj: Min=26.49, Max=32.39, Mean=29.57, Std=1.80\n",
      "Station Punjabi Bagh: Min=26.94, Max=33.09, Mean=30.15, Std=1.87\n",
      "Station Pusa: Min=24.61, Max=29.48, Mean=27.16, Std=1.49\n",
      "Station R K Puram: Min=23.57, Max=29.32, Mean=26.56, Std=1.76\n",
      "Station Rohini: Min=28.51, Max=34.53, Mean=31.65, Std=1.84\n",
      "Station Shadipur: Min=55.25, Max=64.97, Mean=60.36, Std=2.96\n",
      "Station Sonia Vihar: Min=27.88, Max=33.78, Mean=30.97, Std=1.80\n",
      "Station Sri Aurobindo Marg: Min=22.13, Max=26.35, Mean=24.34, Std=1.29\n",
      "Station Vivek Vihar: Min=29.30, Max=36.23, Mean=32.91, Std=2.11\n",
      "Station Wazirpur: Min=29.12, Max=35.34, Mean=32.37, Std=1.90\n",
      "\n",
      "Forecasting completed. Plots saved to /home/naradaw/code/GCNTFT/outputs/images_tft_only/04031004_station_specific\n"
     ]
    }
   ],
   "source": [
    "# Set up output directory\n",
    "output_loc = f\"/home/naradaw/code/GCNTFT/outputs/images_tft_only/{pd.Timestamp.now().strftime('%m%d%H%M')}_station_specific\"\n",
    "\n",
    "if not os.path.exists(output_loc):\n",
    "    os.makedirs(output_loc)\n",
    "\n",
    "# Plot predictions for each station using station-specific predictions\n",
    "for station in station_ids:\n",
    "    # Get the prediction for this station\n",
    "    station_pred = station_preds_dict[station]\n",
    "    \n",
    "    plt.figure(figsize=(10, 6))\n",
    "    \n",
    "    # Plot the prediction\n",
    "    plt.plot(range(max_prediction_length), station_pred, label='Prediction', color='blue')\n",
    "    \n",
    "    # Get historical data for comparison\n",
    "    historical = air_quality_df[air_quality_df['station_loc'] == station].tail(max_encoder_length)['PM25'].values\n",
    "    plt.plot(range(-len(historical), 0), historical, label='Historical', color='green')\n",
    "    \n",
    "    # Check if we have actual future data for this station\n",
    "    station_data = air_quality_df[air_quality_df['station_loc'] == station]\n",
    "    last_historical_idx = station_data[station_data['time_idx'] <= station_data['time_idx'].max() - max_prediction_length].tail(1)['time_idx'].item()\n",
    "    \n",
    "    # Get actual values for the prediction period if they exist in the dataset\n",
    "    future_indices = range(last_historical_idx + 1, last_historical_idx + max_prediction_length + 1)\n",
    "    future_data = station_data[station_data['time_idx'].isin(future_indices)]['PM25'].values\n",
    "    \n",
    "    # Plot actual future values if available\n",
    "    if len(future_data) > 0:\n",
    "        plt.plot(range(min(len(future_data), max_prediction_length)), future_data[:max_prediction_length], \n",
    "                 label='Actual', color='red', linestyle='-')\n",
    "    \n",
    "    plt.axvline(x=0, linestyle='--', color='gray')\n",
    "    plt.title(f'24-Hour Air Quality Forecast for Station {station}')\n",
    "    plt.xlabel('Hours')\n",
    "    plt.ylabel('PM25')\n",
    "    plt.legend()\n",
    "    plt.grid(True)\n",
    "    \n",
    "    # Save the plot\n",
    "    plt.savefig(os.path.join(output_loc, f'station_{station}_forecast.png'))\n",
    "    plt.close()\n",
    "\n",
    "# Plot summary comparison of all station predictions\n",
    "plt.figure(figsize=(12, 8))\n",
    "for station in station_ids:\n",
    "    plt.plot(range(max_prediction_length), station_preds_dict[station], label=f'Station {station}')\n",
    "\n",
    "plt.title('Comparison of Predictions Across All Stations')\n",
    "plt.xlabel('Hours')\n",
    "plt.ylabel('PM25')\n",
    "plt.legend()\n",
    "plt.grid(True)\n",
    "plt.savefig(os.path.join(output_loc, 'all_stations_comparison.png'))\n",
    "plt.close()\n",
    "\n",
    "# Print prediction statistics\n",
    "print(\"\\nPrediction statistics:\")\n",
    "for station in station_ids:\n",
    "    pred = station_preds_dict[station]\n",
    "    print(f\"Station {station}: Min={pred.min():.2f}, Max={pred.max():.2f}, Mean={pred.mean():.2f}, Std={pred.std():.2f}\")\n",
    "\n",
    "print(f\"\\nForecasting completed. Plots saved to {output_loc}\")"
   ]
  },
  {
   "cell_type": "code",
   "execution_count": 48,
   "metadata": {},
   "outputs": [
    {
     "name": "stderr",
     "output_type": "stream",
     "text": [
      "You are using the plain ModelCheckpoint callback. Consider using LitModelCheckpoint which with seamless uploading to Model registry.\n",
      "GPU available: True (cuda), used: True\n",
      "TPU available: False, using: 0 TPU cores\n",
      "HPU available: False, using: 0 HPUs\n",
      "LOCAL_RANK: 0 - CUDA_VISIBLE_DEVICES: [0]\n"
     ]
    },
    {
     "ename": "ValueError",
     "evalue": "too many values to unpack (expected 2)",
     "output_type": "error",
     "traceback": [
      "\u001b[31m---------------------------------------------------------------------------\u001b[39m",
      "\u001b[31mValueError\u001b[39m                                Traceback (most recent call last)",
      "\u001b[36mCell\u001b[39m\u001b[36m \u001b[39m\u001b[32mIn[48]\u001b[39m\u001b[32m, line 2\u001b[39m\n\u001b[32m      1\u001b[39m \u001b[38;5;66;03m# Check variable importance\u001b[39;00m\n\u001b[32m----> \u001b[39m\u001b[32m2\u001b[39m raw_predictions, x = tft.predict(val_dataloader, return_x=\u001b[38;5;28;01mTrue\u001b[39;00m)\n",
      "\u001b[31mValueError\u001b[39m: too many values to unpack (expected 2)"
     ]
    }
   ],
   "source": [
    "# Check variable importance\n",
    "raw_predictions, x = tft.predict(val_dataloader, return_x=True)\n"
   ]
  },
  {
   "cell_type": "code",
   "execution_count": null,
   "metadata": {},
   "outputs": [],
   "source": [
    "\n",
    "# Generate interpretation\n",
    "interpretation = tft.interpret_prediction(x, reduction=\"mean\")\n",
    "\n",
    "# Plot variable importance\n",
    "plt.figure(figsize=(10, 8))\n",
    "order = interpretation[\"static_variables\"].mean(axis=0).argsort()\n",
    "plt.barh(\n",
    "    np.array(interpretation[\"static_variable_names\"])[order],\n",
    "    interpretation[\"static_variables\"].mean(axis=0)[order]\n",
    ")\n",
    "plt.title(\"Static Variable Importance\")\n",
    "plt.tight_layout()\n",
    "plt.savefig(os.path.join(output_loc, \"static_variable_importance.png\"))"
   ]
  },
  {
   "cell_type": "code",
   "execution_count": 36,
   "metadata": {},
   "outputs": [
    {
     "data": {
      "text/plain": [
       "'Burari Crossing'"
      ]
     },
     "execution_count": 36,
     "metadata": {},
     "output_type": "execute_result"
    }
   ],
   "source": [
    "station = station_ids[5]\n",
    "station"
   ]
  },
  {
   "cell_type": "code",
   "execution_count": 37,
   "metadata": {},
   "outputs": [
    {
     "data": {
      "text/plain": [
       "5"
      ]
     },
     "execution_count": 37,
     "metadata": {},
     "output_type": "execute_result"
    }
   ],
   "source": [
    "station_idx = station_mapping[station]\n",
    "station_idx"
   ]
  },
  {
   "cell_type": "code",
   "execution_count": 38,
   "metadata": {},
   "outputs": [
    {
     "data": {
      "text/plain": [
       "array([24.984472, 25.007977, 25.178965, 25.487686, 25.921286, 26.458723,\n",
       "       27.062433, 27.662863, 28.14237 , 28.3374  , 28.094805, 27.365152,\n",
       "       26.261204, 25.020758, 23.92476 , 23.203539, 22.960508, 23.161558,\n",
       "       23.692024, 24.422945, 25.249105, 26.096481, 26.921837, 27.700588],\n",
       "      dtype=float32)"
      ]
     },
     "execution_count": 38,
     "metadata": {},
     "output_type": "execute_result"
    }
   ],
   "source": [
    "station_preds = predictions[station_idx].detach().cpu().numpy()\n",
    "station_preds"
   ]
  },
  {
   "cell_type": "code",
   "execution_count": 39,
   "metadata": {},
   "outputs": [
    {
     "data": {
      "text/plain": [
       "np.int64(8760)"
      ]
     },
     "execution_count": 39,
     "metadata": {},
     "output_type": "execute_result"
    }
   ],
   "source": [
    "last_timestamp = air_quality_df[air_quality_df['station_loc'] == station]['time_idx'].max()\n",
    "last_timestamp"
   ]
  },
  {
   "cell_type": "code",
   "execution_count": 40,
   "metadata": {},
   "outputs": [
    {
     "data": {
      "text/plain": [
       "0           Alipur\n",
       "1           Alipur\n",
       "2           Alipur\n",
       "3           Alipur\n",
       "4           Alipur\n",
       "            ...   \n",
       "324152    Wazirpur\n",
       "324153    Wazirpur\n",
       "324154    Wazirpur\n",
       "324155    Wazirpur\n",
       "324156    Wazirpur\n",
       "Name: station_loc, Length: 324157, dtype: object"
      ]
     },
     "execution_count": 40,
     "metadata": {},
     "output_type": "execute_result"
    }
   ],
   "source": [
    "air_quality_df['station_loc']"
   ]
  },
  {
   "cell_type": "code",
   "execution_count": 41,
   "metadata": {},
   "outputs": [
    {
     "data": {
      "text/html": [
       "<div>\n",
       "<style scoped>\n",
       "    .dataframe tbody tr th:only-of-type {\n",
       "        vertical-align: middle;\n",
       "    }\n",
       "\n",
       "    .dataframe tbody tr th {\n",
       "        vertical-align: top;\n",
       "    }\n",
       "\n",
       "    .dataframe thead th {\n",
       "        text-align: right;\n",
       "    }\n",
       "</style>\n",
       "<table border=\"1\" class=\"dataframe\">\n",
       "  <thead>\n",
       "    <tr style=\"text-align: right;\">\n",
       "      <th></th>\n",
       "      <th>datetime</th>\n",
       "      <th>time_idx</th>\n",
       "      <th>PM25</th>\n",
       "      <th>latitude</th>\n",
       "      <th>longitude</th>\n",
       "      <th>station_loc</th>\n",
       "      <th>group_id</th>\n",
       "      <th>hour</th>\n",
       "      <th>day_of_week</th>\n",
       "      <th>month</th>\n",
       "    </tr>\n",
       "  </thead>\n",
       "  <tbody>\n",
       "    <tr>\n",
       "      <th>43805</th>\n",
       "      <td>2022-03-31 23:00:00</td>\n",
       "      <td>0</td>\n",
       "      <td>107.52</td>\n",
       "      <td>28.728594</td>\n",
       "      <td>77.199325</td>\n",
       "      <td>Burari Crossing</td>\n",
       "      <td>5</td>\n",
       "      <td>23</td>\n",
       "      <td>3</td>\n",
       "      <td>3</td>\n",
       "    </tr>\n",
       "    <tr>\n",
       "      <th>43806</th>\n",
       "      <td>2022-04-01 00:00:00</td>\n",
       "      <td>1</td>\n",
       "      <td>81.85</td>\n",
       "      <td>28.728594</td>\n",
       "      <td>77.199325</td>\n",
       "      <td>Burari Crossing</td>\n",
       "      <td>5</td>\n",
       "      <td>0</td>\n",
       "      <td>4</td>\n",
       "      <td>4</td>\n",
       "    </tr>\n",
       "    <tr>\n",
       "      <th>43807</th>\n",
       "      <td>2022-04-01 01:00:00</td>\n",
       "      <td>2</td>\n",
       "      <td>60.89</td>\n",
       "      <td>28.728594</td>\n",
       "      <td>77.199325</td>\n",
       "      <td>Burari Crossing</td>\n",
       "      <td>5</td>\n",
       "      <td>1</td>\n",
       "      <td>4</td>\n",
       "      <td>4</td>\n",
       "    </tr>\n",
       "    <tr>\n",
       "      <th>43808</th>\n",
       "      <td>2022-04-01 02:00:00</td>\n",
       "      <td>3</td>\n",
       "      <td>71.02</td>\n",
       "      <td>28.728594</td>\n",
       "      <td>77.199325</td>\n",
       "      <td>Burari Crossing</td>\n",
       "      <td>5</td>\n",
       "      <td>2</td>\n",
       "      <td>4</td>\n",
       "      <td>4</td>\n",
       "    </tr>\n",
       "    <tr>\n",
       "      <th>43809</th>\n",
       "      <td>2022-04-01 03:00:00</td>\n",
       "      <td>4</td>\n",
       "      <td>67.48</td>\n",
       "      <td>28.728594</td>\n",
       "      <td>77.199325</td>\n",
       "      <td>Burari Crossing</td>\n",
       "      <td>5</td>\n",
       "      <td>3</td>\n",
       "      <td>4</td>\n",
       "      <td>4</td>\n",
       "    </tr>\n",
       "    <tr>\n",
       "      <th>...</th>\n",
       "      <td>...</td>\n",
       "      <td>...</td>\n",
       "      <td>...</td>\n",
       "      <td>...</td>\n",
       "      <td>...</td>\n",
       "      <td>...</td>\n",
       "      <td>...</td>\n",
       "      <td>...</td>\n",
       "      <td>...</td>\n",
       "      <td>...</td>\n",
       "    </tr>\n",
       "    <tr>\n",
       "      <th>52561</th>\n",
       "      <td>2023-03-31 19:00:00</td>\n",
       "      <td>8756</td>\n",
       "      <td>12.63</td>\n",
       "      <td>28.728594</td>\n",
       "      <td>77.199325</td>\n",
       "      <td>Burari Crossing</td>\n",
       "      <td>5</td>\n",
       "      <td>19</td>\n",
       "      <td>4</td>\n",
       "      <td>3</td>\n",
       "    </tr>\n",
       "    <tr>\n",
       "      <th>52562</th>\n",
       "      <td>2023-03-31 20:00:00</td>\n",
       "      <td>8757</td>\n",
       "      <td>28.63</td>\n",
       "      <td>28.728594</td>\n",
       "      <td>77.199325</td>\n",
       "      <td>Burari Crossing</td>\n",
       "      <td>5</td>\n",
       "      <td>20</td>\n",
       "      <td>4</td>\n",
       "      <td>3</td>\n",
       "    </tr>\n",
       "    <tr>\n",
       "      <th>52563</th>\n",
       "      <td>2023-03-31 21:00:00</td>\n",
       "      <td>8758</td>\n",
       "      <td>19.34</td>\n",
       "      <td>28.728594</td>\n",
       "      <td>77.199325</td>\n",
       "      <td>Burari Crossing</td>\n",
       "      <td>5</td>\n",
       "      <td>21</td>\n",
       "      <td>4</td>\n",
       "      <td>3</td>\n",
       "    </tr>\n",
       "    <tr>\n",
       "      <th>52564</th>\n",
       "      <td>2023-03-31 22:00:00</td>\n",
       "      <td>8759</td>\n",
       "      <td>25.36</td>\n",
       "      <td>28.728594</td>\n",
       "      <td>77.199325</td>\n",
       "      <td>Burari Crossing</td>\n",
       "      <td>5</td>\n",
       "      <td>22</td>\n",
       "      <td>4</td>\n",
       "      <td>3</td>\n",
       "    </tr>\n",
       "    <tr>\n",
       "      <th>52565</th>\n",
       "      <td>2023-03-31 23:00:00</td>\n",
       "      <td>8760</td>\n",
       "      <td>23.94</td>\n",
       "      <td>28.728594</td>\n",
       "      <td>77.199325</td>\n",
       "      <td>Burari Crossing</td>\n",
       "      <td>5</td>\n",
       "      <td>23</td>\n",
       "      <td>4</td>\n",
       "      <td>3</td>\n",
       "    </tr>\n",
       "  </tbody>\n",
       "</table>\n",
       "<p>8761 rows × 10 columns</p>\n",
       "</div>"
      ],
      "text/plain": [
       "                 datetime  time_idx    PM25   latitude  longitude  \\\n",
       "43805 2022-03-31 23:00:00         0  107.52  28.728594  77.199325   \n",
       "43806 2022-04-01 00:00:00         1   81.85  28.728594  77.199325   \n",
       "43807 2022-04-01 01:00:00         2   60.89  28.728594  77.199325   \n",
       "43808 2022-04-01 02:00:00         3   71.02  28.728594  77.199325   \n",
       "43809 2022-04-01 03:00:00         4   67.48  28.728594  77.199325   \n",
       "...                   ...       ...     ...        ...        ...   \n",
       "52561 2023-03-31 19:00:00      8756   12.63  28.728594  77.199325   \n",
       "52562 2023-03-31 20:00:00      8757   28.63  28.728594  77.199325   \n",
       "52563 2023-03-31 21:00:00      8758   19.34  28.728594  77.199325   \n",
       "52564 2023-03-31 22:00:00      8759   25.36  28.728594  77.199325   \n",
       "52565 2023-03-31 23:00:00      8760   23.94  28.728594  77.199325   \n",
       "\n",
       "           station_loc  group_id hour day_of_week month  \n",
       "43805  Burari Crossing         5   23           3     3  \n",
       "43806  Burari Crossing         5    0           4     4  \n",
       "43807  Burari Crossing         5    1           4     4  \n",
       "43808  Burari Crossing         5    2           4     4  \n",
       "43809  Burari Crossing         5    3           4     4  \n",
       "...                ...       ...  ...         ...   ...  \n",
       "52561  Burari Crossing         5   19           4     3  \n",
       "52562  Burari Crossing         5   20           4     3  \n",
       "52563  Burari Crossing         5   21           4     3  \n",
       "52564  Burari Crossing         5   22           4     3  \n",
       "52565  Burari Crossing         5   23           4     3  \n",
       "\n",
       "[8761 rows x 10 columns]"
      ]
     },
     "execution_count": 41,
     "metadata": {},
     "output_type": "execute_result"
    }
   ],
   "source": [
    "air_quality_df[air_quality_df['station_loc'] == station]"
   ]
  },
  {
   "cell_type": "code",
   "execution_count": 42,
   "metadata": {},
   "outputs": [
    {
     "name": "stdout",
     "output_type": "stream",
     "text": [
      "Forecasting completed. Plots saved to outputs/images/\n"
     ]
    }
   ],
   "source": [
    "output_loc = f\"/home/naradaw/code/GCNTFT/outputs/images_tft_only/{pd.Timestamp.now().strftime('%m%d%H%M')}\"\n",
    "\n",
    "if not os.path.exists(output_loc):\n",
    "    os.makedirs(output_loc)\n",
    "\n",
    "# Plot predictions for each station\n",
    "for station in station_ids:\n",
    "    station_idx = station_mapping[station]\n",
    "    station_preds = predictions[station_idx].detach().cpu().numpy()\n",
    "    \n",
    "    # Get the future actual values for comparison if they exist\n",
    "    last_timestamp = air_quality_df[air_quality_df['station_loc'] == station]['time_idx'].max()\n",
    "    \n",
    "    # Check if we have actual data for the prediction period\n",
    "    station_data = air_quality_df[air_quality_df['station_loc'] == station]\n",
    "    last_historical_idx = station_data.iloc[-1]['time_idx']\n",
    "    \n",
    "    # Get actual values for the prediction period if they exist in the dataset\n",
    "    future_data = None\n",
    "    if last_timestamp >= last_historical_idx + max_prediction_length:\n",
    "        future_indices = range(last_historical_idx + 1, last_historical_idx + max_prediction_length + 1)\n",
    "        future_data = station_data[station_data['time_idx'].isin(future_indices)]['PM25'].values\n",
    "    plt.figure(figsize=(10, 6))\n",
    "    plt.plot(range(max_prediction_length), station_preds, label='Prediction')\n",
    "    \n",
    "    # Get historical data for comparison\n",
    "    historical = air_quality_df[air_quality_df['station_loc'] == station].tail(max_encoder_length)['PM25'].values\n",
    "    plt.plot(range(-len(historical), 0), historical, label='Historical')\n",
    "    \n",
    "    plt.axvline(x=0, linestyle='--', color='gray')\n",
    "    plt.title(f'24-Hour Air Quality Forecast for Station {station}')\n",
    "    plt.xlabel('Hours')\n",
    "    plt.ylabel('PM25')\n",
    "    plt.legend()\n",
    "    plt.grid(True)\n",
    "    \n",
    "    # Save the plot\n",
    "    \n",
    "    plt.savefig(os.path.join(output_loc, f'station_{station}_forecast.png'))\n",
    "    plt.close()\n",
    "\n",
    "print(\"Forecasting completed. Plots saved to outputs/images/\")"
   ]
  },
  {
   "cell_type": "code",
   "execution_count": null,
   "metadata": {},
   "outputs": [],
   "source": []
  }
 ],
 "metadata": {
  "kernelspec": {
   "display_name": "gnns",
   "language": "python",
   "name": "python3"
  },
  "language_info": {
   "codemirror_mode": {
    "name": "ipython",
    "version": 3
   },
   "file_extension": ".py",
   "mimetype": "text/x-python",
   "name": "python",
   "nbconvert_exporter": "python",
   "pygments_lexer": "ipython3",
   "version": "3.13.2"
  }
 },
 "nbformat": 4,
 "nbformat_minor": 2
}
